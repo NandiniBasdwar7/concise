{
  "nbformat": 4,
  "nbformat_minor": 0,
  "metadata": {
    "colab": {
      "provenance": [],
      "authorship_tag": "ABX9TyNHqKIzjuU4pXPZXbt9JlGB",
      "include_colab_link": true
    },
    "kernelspec": {
      "name": "python3",
      "display_name": "Python 3"
    },
    "language_info": {
      "name": "python"
    }
  },
  "cells": [
    {
      "cell_type": "markdown",
      "metadata": {
        "id": "view-in-github",
        "colab_type": "text"
      },
      "source": [
        "<a href=\"https://colab.research.google.com/github/NandiniBasdwar7/concise/blob/main/day10.ipynb\" target=\"_parent\"><img src=\"https://colab.research.google.com/assets/colab-badge.svg\" alt=\"Open In Colab\"/></a>"
      ]
    },
    {
      "cell_type": "code",
      "execution_count": 4,
      "metadata": {
        "colab": {
          "base_uri": "https://localhost:8080/"
        },
        "id": "khD6713TOIZa",
        "outputId": "782d9e8f-c58b-488d-bb74-0f8888150ca1"
      },
      "outputs": [
        {
          "output_type": "stream",
          "name": "stdout",
          "text": [
            "    A   B    C\n",
            "0  10   5   50\n",
            "1  20  10  200\n",
            "2  30  15  450\n"
          ]
        }
      ],
      "source": [
        "#Data Transformation\n",
        "#apply, map, replace\n",
        "#apply()-The apply() function in Pandas offers flexibility for applying a function to either rows, columns, or individual elements of a DataFrame or Series.Applies custom or built-in functions.\n",
        "#Operates on rows (axis=1), columns (axis=0), or element-wise (implicitly)\n",
        "import pandas as pd\n",
        "\n",
        "df = pd.DataFrame({'A': [10, 20, 30], 'B': [5, 10, 15]})\n",
        "df['C'] = df.apply(lambda row: row['A'] * row['B'], axis=1) # Calculate a new column C based on A and B\n",
        "print(df)"
      ]
    },
    {
      "cell_type": "code",
      "source": [
        "#Map-The map() function is used to transform or replace values in a Series based on a dictionary or a function. It's particularly useful when you have a defined set of values to replace or transform, often based on a mappin\n",
        "import pandas as pd\n",
        "\n",
        "df = pd.DataFrame({'Age': [25, 35, 20, 40]})\n",
        "\n",
        "def age_category(age):\n",
        "    return 'Young' if age < 30 else 'Old'\n",
        "\n",
        "df['Age_Category'] = df['Age'].map(age_category)\n",
        "print(df)\n"
      ],
      "metadata": {
        "colab": {
          "base_uri": "https://localhost:8080/"
        },
        "id": "d2OQc3igpHL_",
        "outputId": "7f1f4eab-86cd-4b42-9ceb-a6c1fb690bff"
      },
      "execution_count": 5,
      "outputs": [
        {
          "output_type": "stream",
          "name": "stdout",
          "text": [
            "   Age Age_Category\n",
            "0   25        Young\n",
            "1   35          Old\n",
            "2   20        Young\n",
            "3   40          Old\n"
          ]
        }
      ]
    },
    {
      "cell_type": "code",
      "source": [
        "import pandas as pd\n",
        "\n",
        "# Create a sample DataFrame\n",
        "data = {'Tweet': ['We are launching #newproduct!', 'Check out our latest news!', 'Exciting updates on %projectX', '@innovation is key']}\n",
        "df = pd.DataFrame(data)\n",
        "\n",
        "# Replace all hashtags using replace() with regex=True\n",
        "df['Tweet'] = df['Tweet'].replace(to_replace=r'[#%@]\\w+', value=\"\", regex=True)\n",
        "print(df)"
      ],
      "metadata": {
        "colab": {
          "base_uri": "https://localhost:8080/"
        },
        "id": "0iSvy3q9pVt-",
        "outputId": "53b058e4-2cf4-4071-90f5-98d44b68450d"
      },
      "execution_count": 6,
      "outputs": [
        {
          "output_type": "stream",
          "name": "stdout",
          "text": [
            "                        Tweet\n",
            "0          We are launching !\n",
            "1  Check out our latest news!\n",
            "2        Exciting updates on \n",
            "3                      is key\n"
          ]
        }
      ]
    },
    {
      "cell_type": "code",
      "source": [
        "#Methods for adding columns:1. Direct assignment with a list of values\n",
        "import pandas as pd\n",
        "\n",
        "df = pd.DataFrame({'A': [1, 2, 3], 'B': [4, 5, 6]})\n",
        "df['new_column'] = [7, 8, 9]  # Add a new column 'new_column' with values [7, 8, 9]\n",
        "print(df)\n",
        "\n"
      ],
      "metadata": {
        "colab": {
          "base_uri": "https://localhost:8080/"
        },
        "id": "4GJip9ZYpg1f",
        "outputId": "036d06a1-0398-4eb8-fe89-7d48cff23f5c"
      },
      "execution_count": 7,
      "outputs": [
        {
          "output_type": "stream",
          "name": "stdout",
          "text": [
            "   A  B  new_column\n",
            "0  1  4           7\n",
            "1  2  5           8\n",
            "2  3  6           9\n"
          ]
        }
      ]
    },
    {
      "cell_type": "code",
      "source": [
        "#2. Using df.insert() to add a column at a specific index\n",
        "import pandas as pd\n",
        "\n",
        "df = pd.DataFrame({'A': [1, 2, 3], 'B': [4, 5, 6]})\n",
        "df.insert(2, 'C', [7, 8, 9])  # Insert a new column 'C' at index 1\n",
        "print(df)"
      ],
      "metadata": {
        "colab": {
          "base_uri": "https://localhost:8080/"
        },
        "id": "MJ05qtEvqZqJ",
        "outputId": "0b375274-2bf3-4c0a-f6b0-49cecb79ee41"
      },
      "execution_count": 32,
      "outputs": [
        {
          "output_type": "stream",
          "name": "stdout",
          "text": [
            "   A  B  C\n",
            "0  1  4  7\n",
            "1  2  5  8\n",
            "2  3  6  9\n"
          ]
        }
      ]
    },
    {
      "cell_type": "code",
      "source": [
        "#3. Using df.loc[] to create or update columns by label\n",
        "import pandas as pd\n",
        "\n",
        "df = pd.DataFrame({'A': [1, 2, 3], 'B': [4, 5, 6]})\n",
        "print(df)\n",
        "df.loc[:, 'D'] = [10, 11, 12]  # Create a new column 'D' using loc[]\n",
        "print(df)\n"
      ],
      "metadata": {
        "colab": {
          "base_uri": "https://localhost:8080/"
        },
        "id": "Pe_EkXJYqqJC",
        "outputId": "9b886181-b740-47ca-8470-2d196d2f0d4f"
      },
      "execution_count": 13,
      "outputs": [
        {
          "output_type": "stream",
          "name": "stdout",
          "text": [
            "   A  B\n",
            "0  1  4\n",
            "1  2  5\n",
            "2  3  6\n",
            "   A  B   D\n",
            "0  1  4  10\n",
            "1  2  5  11\n",
            "2  3  6  12\n"
          ]
        }
      ]
    },
    {
      "cell_type": "code",
      "source": [
        "#4. Using df.assign() to add new columns and return a new DataFrame\n",
        "import pandas as pd\n",
        "\n",
        "df = pd.DataFrame({'A': [1, 2, 3], 'B': [4, 5, 6]})\n",
        "new_df = df.assign(C=[13, 14, 15])  # Add a new column 'E' using assign()\n",
        "print(new_df)\n",
        "print(df)"
      ],
      "metadata": {
        "colab": {
          "base_uri": "https://localhost:8080/"
        },
        "id": "sioiZ0VFrQMj",
        "outputId": "f9379462-3dab-42a1-c5a4-5f3e261582e8"
      },
      "execution_count": 14,
      "outputs": [
        {
          "output_type": "stream",
          "name": "stdout",
          "text": [
            "   A  B   C\n",
            "0  1  4  13\n",
            "1  2  5  14\n",
            "2  3  6  15\n",
            "   A  B\n",
            "0  1  4\n",
            "1  2  5\n",
            "2  3  6\n"
          ]
        }
      ]
    },
    {
      "cell_type": "code",
      "source": [
        "#5. Creating columns with calculated values from existing columns\n",
        "import pandas as pd\n",
        "\n",
        "df = pd.DataFrame({'A': [1, 2, 3], 'B': [4, 5, 6]})\n",
        "df['C'] = df['A'] + df['B']  # Calculate 'C' as the sum of 'A' and 'B'\n",
        "print(df)\n"
      ],
      "metadata": {
        "colab": {
          "base_uri": "https://localhost:8080/"
        },
        "id": "vyZNvyKusIYW",
        "outputId": "b7659137-17c8-41e4-aeab-e63cb72d7069"
      },
      "execution_count": 15,
      "outputs": [
        {
          "output_type": "stream",
          "name": "stdout",
          "text": [
            "   A  B  C\n",
            "0  1  4  5\n",
            "1  2  5  7\n",
            "2  3  6  9\n"
          ]
        }
      ]
    },
    {
      "cell_type": "code",
      "source": [
        "#1. Renaming-Columns: You can rename columns using the rename() method. This method takes a dictionary as an argument, where the keys are the old column names, and the values are the new column names.\n",
        "import pandas as pd\n",
        "\n",
        "df = pd.DataFrame({'A': [1, 2, 3], 'B': [4, 5, 6]})\n",
        "df = df.rename(columns={'A': 'First', 'B': 'Second'})\n",
        "print(df)\n"
      ],
      "metadata": {
        "colab": {
          "base_uri": "https://localhost:8080/"
        },
        "id": "2uq5WnoruZgL",
        "outputId": "9b0f67f5-350c-466a-e7f5-17d06badc9fe"
      },
      "execution_count": 17,
      "outputs": [
        {
          "output_type": "stream",
          "name": "stdout",
          "text": [
            "   First  Second\n",
            "0      1       4\n",
            "1      2       5\n",
            "2      3       6\n"
          ]
        }
      ]
    },
    {
      "cell_type": "code",
      "source": [
        "#Indexes: You can rename the index of a DataFrame in a similar fashion using the rename() method. Pass a dictionary where the keys are the old index names and the values are the new index names to the index parameter.\n",
        "import pandas as pd\n",
        "df = pd.DataFrame({'Name': ['John', 'Alice'], 'Age': [25, 30]}, index=['a', 'b'])\n",
        "df = df.rename(index={'a': 'FirstRow', 'b': 'SecondRow'})\n",
        "print(df)\n"
      ],
      "metadata": {
        "colab": {
          "base_uri": "https://localhost:8080/"
        },
        "id": "AOlgcNm3vBQs",
        "outputId": "44edc273-968d-4581-991b-ac3b256f5d2c"
      },
      "execution_count": 20,
      "outputs": [
        {
          "output_type": "stream",
          "name": "stdout",
          "text": [
            "            Name  Age\n",
            "FirstRow    John   25\n",
            "SecondRow  Alice   30\n"
          ]
        }
      ]
    },
    {
      "cell_type": "code",
      "source": [
        "#In-Place Renaming: You can apply the renaming changes directly to the original DataFrame without creating a new one by setting the inplace parameter to True within the rename() method.\n",
        "df=pd.DataFrame({'Name':['aa','bb','cc'],'age':[22,34,24,]})\n",
        "pd.DataFrame.rename(df,columns={'Name':'First','age':'Second'},inplace=True)\n",
        "print(df)"
      ],
      "metadata": {
        "colab": {
          "base_uri": "https://localhost:8080/"
        },
        "id": "q5C8RqzWF10x",
        "outputId": "b367beb6-6fdd-4cab-9d03-ad601537e378"
      },
      "execution_count": 21,
      "outputs": [
        {
          "output_type": "stream",
          "name": "stdout",
          "text": [
            "  First  Second\n",
            "0    aa      22\n",
            "1    bb      34\n",
            "2    cc      24\n"
          ]
        }
      ]
    },
    {
      "cell_type": "code",
      "source": [
        "#Renaming-Renaming by Index (Position): To rename a column based on its numerical index (position) instead of its name\n",
        "df=pd.DataFrame({'Name':['aa','bb','cc'],'age':[22,34,24,]})\n",
        "new_columns=['Name','Age']\n",
        "df.columns=new_columns\n",
        "print(df)"
      ],
      "metadata": {
        "colab": {
          "base_uri": "https://localhost:8080/"
        },
        "id": "qFt1MN6FGus5",
        "outputId": "641e99ee-7de7-4b48-aba6-689f79dbc785"
      },
      "execution_count": 22,
      "outputs": [
        {
          "output_type": "stream",
          "name": "stdout",
          "text": [
            "  Name  Age\n",
            "0   aa   22\n",
            "1   bb   34\n",
            "2   cc   24\n"
          ]
        }
      ]
    },
    {
      "cell_type": "code",
      "source": [
        "#2. Indexing-Setting Index: The set_index() method allows you to set one or more columns as the DataFrame's index. This is particularly useful for making specific columns the row identifiers, aiding in data retrieval and alignment.\n",
        "import pandas as pd\n",
        "\n",
        "data = {'Name': ['Alice', 'Bob', 'Charlie'],\n",
        "        'Age': [25, 30, 35],\n",
        "        'City': ['New York', 'San Francisco', 'Los Angeles']}\n",
        "\n",
        "df = pd.DataFrame(data)\n",
        "print(df)\n",
        "df=df.set_index('Name')\n",
        "print(df)"
      ],
      "metadata": {
        "colab": {
          "base_uri": "https://localhost:8080/"
        },
        "id": "k_E5gVAUHa4q",
        "outputId": "aacc91f2-bd8e-4a00-a104-38be579db879"
      },
      "execution_count": 24,
      "outputs": [
        {
          "output_type": "stream",
          "name": "stdout",
          "text": [
            "      Name  Age           City\n",
            "0    Alice   25       New York\n",
            "1      Bob   30  San Francisco\n",
            "2  Charlie   35    Los Angeles\n",
            "         Age           City\n",
            "Name                       \n",
            "Alice     25       New York\n",
            "Bob       30  San Francisco\n",
            "Charlie   35    Los Angeles\n"
          ]
        }
      ]
    },
    {
      "cell_type": "code",
      "source": [
        "#Setting Multiple Columns as Index (MultiIndex): You can also set a combination of columns as the index, resulting in a MultiIndex or hierarchical index\n",
        "import pandas as pd\n",
        "df = pd.DataFrame({'Region': ['North', 'South'], 'Product': ['A', 'B'], 'Sales': [100, 150]})\n",
        "df = df.set_index(['Region', 'Product'])\n",
        "print(df)\n"
      ],
      "metadata": {
        "colab": {
          "base_uri": "https://localhost:8080/"
        },
        "id": "WV9aOGpDILup",
        "outputId": "a69d31be-c4c2-4c03-cb78-5a906d9ae9ef"
      },
      "execution_count": 25,
      "outputs": [
        {
          "output_type": "stream",
          "name": "stdout",
          "text": [
            "                Sales\n",
            "Region Product       \n",
            "North  A          100\n",
            "South  B          150\n"
          ]
        }
      ]
    },
    {
      "cell_type": "code",
      "source": [
        "#Resetting Index:-The reset_index() method converts the index of a DataFrame back into columns, replacing it with the default integer-based index. This is useful when you want to treat the index as regular data or need to revert to a simpler index.\n",
        "import pandas as pd\n",
        "\n",
        "data = {'Region': ['North', 'South'], 'Product': ['A', 'B'], 'Sales': [100, 150]}\n",
        "df = pd.DataFrame(data)\n",
        "df = df.reset_index()\n",
        "print(df)\n"
      ],
      "metadata": {
        "colab": {
          "base_uri": "https://localhost:8080/"
        },
        "id": "RQJnVlR9Ixq6",
        "outputId": "8040dd04-4fab-483e-dcfa-ab1e9cb3e8ba"
      },
      "execution_count": 27,
      "outputs": [
        {
          "output_type": "stream",
          "name": "stdout",
          "text": [
            "   index Region Product  Sales\n",
            "0      0  North       A    100\n",
            "1      1  South       B    150\n"
          ]
        }
      ]
    },
    {
      "cell_type": "code",
      "source": [
        "#Dropping the Index when Resetting: If you don't need the old index values as a column after resetting, you can use reset_index(drop=True)\n",
        "data={'Region':['North','South'],'Product':['A','B'],'Sales':[100,150]}\n",
        "df=pd.DataFrame(data)\n",
        "df=df.reset_index(drop=True)\n",
        "print(df)"
      ],
      "metadata": {
        "colab": {
          "base_uri": "https://localhost:8080/"
        },
        "id": "enH6M02ZK0mB",
        "outputId": "9a2626c4-dbe4-49ad-9468-6f98bfde1365"
      },
      "execution_count": 28,
      "outputs": [
        {
          "output_type": "stream",
          "name": "stdout",
          "text": [
            "  Region Product  Sales\n",
            "0  North       A    100\n",
            "1  South       B    150\n"
          ]
        }
      ]
    },
    {
      "cell_type": "code",
      "source": [
        "import pandas as pd\n",
        "\n",
        "# 1. Create a sample DataFrame (replace this with your actual data loading)\n",
        "data = {\n",
        "    'OrderID': [1, 2, 3, 4, 5],\n",
        "    'Price': [100, 150, 75, 200, 120],\n",
        "    'Quantity': [2, 1, 3, 1, 2],\n",
        "    'Discount': [0.1, 0.05, 0.15, 0.2, 0.1]\n",
        "}\n",
        "df = pd.DataFrame(data)\n",
        "\n",
        "print(\"Original DataFrame:\")\n",
        "print(df)\n",
        "\n",
        "df['Normalized_Price'] = (df['Price'] - df['Price'].min()) / (df['Price'].max() - df['Price'].min())\n",
        "\n",
        "df['Net_Revenue_Per_Order'] = (df['Price'] * df['Quantity']) * (1 - df['Discount'])\n",
        "\n",
        "print(\"\\nDataFrame with Normalized Price and Derived Metric:\")\n",
        "print(df)"
      ],
      "metadata": {
        "colab": {
          "base_uri": "https://localhost:8080/"
        },
        "id": "U6SFU1ZyalVi",
        "outputId": "583dbf59-393d-4e65-c01b-e66fff42aa72"
      },
      "execution_count": 30,
      "outputs": [
        {
          "output_type": "stream",
          "name": "stdout",
          "text": [
            "Original DataFrame:\n",
            "   OrderID  Price  Quantity  Discount\n",
            "0        1    100         2      0.10\n",
            "1        2    150         1      0.05\n",
            "2        3     75         3      0.15\n",
            "3        4    200         1      0.20\n",
            "4        5    120         2      0.10\n",
            "\n",
            "DataFrame with Normalized Price and Derived Metric:\n",
            "   OrderID  Price  Quantity  Discount  Normalized_Price  Net_Revenue_Per_Order\n",
            "0        1    100         2      0.10              0.20                 180.00\n",
            "1        2    150         1      0.05              0.60                 142.50\n",
            "2        3     75         3      0.15              0.00                 191.25\n",
            "3        4    200         1      0.20              1.00                 160.00\n",
            "4        5    120         2      0.10              0.36                 216.00\n"
          ]
        }
      ]
    },
    {
      "cell_type": "code",
      "source": [
        "import pandas as pd\n",
        "\n",
        "# Assuming 'df' is your DataFrame\n",
        "# Example DataFrame (replace with your actual data)\n",
        "data = {'Product': ['Milk', 'Bread', 'Coffee', 'Juice'],\n",
        "        'Price': [2.50, 3.00, 5.00, 4.25],\n",
        "        'Quantity': [10, 5, 8, 12],\n",
        "        'Category': ['Dairy & Refrigerated', 'Baked Goods', 'Beverages', 'Beverages']}\n",
        "df = pd.DataFrame(data)\n",
        "\n",
        "# Make sure this line is executed\n",
        "df['Revenue'] = df['Price'] * df['Quantity']\n",
        "\n",
        "# Now define and apply your function\n",
        "def classify_revenue(revenue):\n",
        "    if revenue >= 50:\n",
        "        return \"high\"\n",
        "    elif revenue >= 25:\n",
        "        return \"medium\"\n",
        "    else:\n",
        "        return \"low\"\n",
        "\n",
        "df['Revenue_Class'] = df['Revenue'].apply(classify_revenue)\n",
        "print(df)\n",
        "\n",
        "\n"
      ],
      "metadata": {
        "colab": {
          "base_uri": "https://localhost:8080/"
        },
        "id": "7dBEly5tl_2Z",
        "outputId": "44efbcc5-87aa-4b64-e6fd-2b06a7d6da9a"
      },
      "execution_count": 38,
      "outputs": [
        {
          "output_type": "stream",
          "name": "stdout",
          "text": [
            "  Product  Price  Quantity              Category  Revenue Revenue_Class\n",
            "0    Milk   2.50        10  Dairy & Refrigerated     25.0        medium\n",
            "1   Bread   3.00         5           Baked Goods     15.0           low\n",
            "2  Coffee   5.00         8             Beverages     40.0        medium\n",
            "3   Juice   4.25        12             Beverages     51.0          high\n"
          ]
        }
      ]
    }
  ]
}