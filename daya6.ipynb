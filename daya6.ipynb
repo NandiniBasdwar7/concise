{
  "nbformat": 4,
  "nbformat_minor": 0,
  "metadata": {
    "colab": {
      "provenance": [],
      "authorship_tag": "ABX9TyPUoID9TW3N6TmFOJcofKKA",
      "include_colab_link": true
    },
    "kernelspec": {
      "name": "python3",
      "display_name": "Python 3"
    },
    "language_info": {
      "name": "python"
    }
  },
  "cells": [
    {
      "cell_type": "markdown",
      "metadata": {
        "id": "view-in-github",
        "colab_type": "text"
      },
      "source": [
        "<a href=\"https://colab.research.google.com/github/NandiniBasdwar7/concise/blob/main/daya6.ipynb\" target=\"_parent\"><img src=\"https://colab.research.google.com/assets/colab-badge.svg\" alt=\"Open In Colab\"/></a>"
      ]
    },
    {
      "cell_type": "code",
      "execution_count": null,
      "metadata": {
        "colab": {
          "base_uri": "https://localhost:8080/"
        },
        "id": "e_2krvD7kuJ7",
        "outputId": "fb088e27-e2ef-4655-cc4c-96735880b57d"
      },
      "outputs": [
        {
          "output_type": "stream",
          "name": "stdout",
          "text": [
            "[[ 0  1  2  3]\n",
            " [ 4  5  6  7]\n",
            " [ 8  9 10 11]]\n",
            "5.5\n",
            "[4. 5. 6. 7.]\n",
            "[1.5 5.5 9.5]\n"
          ]
        }
      ],
      "source": [
        "# NumPy for Aggregation and Transformation\n",
        "#1)np.mean-to calculate the average of an array (ndarray).\n",
        "import numpy as np\n",
        "\n",
        "a = np.arange(12).reshape(3, 4)\n",
        "print(a)\n",
        "\n",
        "\n",
        "print(np.mean(a))\n",
        "\n",
        "\n",
        "print(np.mean(a, axis=0))\n",
        "\n",
        "\n",
        "print(np.mean(a, axis=1))\n"
      ]
    },
    {
      "cell_type": "code",
      "source": [
        "#np.sum() - calculate the sum of an array (ndarray).\n",
        "import numpy as np\n",
        "\n",
        "a = np.arange(12).reshape(3, 4)\n",
        "print(a)\n",
        "\n",
        "\n",
        "print(np.sum(a))\n",
        "\n",
        "\n",
        "print(np.sum(a, axis=0))\n",
        "\n",
        "\n",
        "print(np.sum(a, axis=1))"
      ],
      "metadata": {
        "colab": {
          "base_uri": "https://localhost:8080/"
        },
        "id": "1ysz_1rglPZ1",
        "outputId": "bb73b5aa-256c-4460-eb5d-24cdb2510e03"
      },
      "execution_count": null,
      "outputs": [
        {
          "output_type": "stream",
          "name": "stdout",
          "text": [
            "[[ 0  1  2  3]\n",
            " [ 4  5  6  7]\n",
            " [ 8  9 10 11]]\n",
            "66\n",
            "[12 15 18 21]\n",
            "[ 6 22 38]\n"
          ]
        }
      ]
    },
    {
      "cell_type": "code",
      "source": [
        "#np.std- function is used to calculate the standard deviation along a specified axis of an array\n",
        "import numpy as np\n",
        "\n",
        "data = [4, 8, 15, 16, 23, 42]\n",
        "stddev = np.std(data)\n",
        "print(\"Standard Deviation:\", stddev)"
      ],
      "metadata": {
        "colab": {
          "base_uri": "https://localhost:8080/"
        },
        "id": "60UNmn32lk5Y",
        "outputId": "cf3c652a-0b05-4e18-e26e-9c40b8c2a22d"
      },
      "execution_count": null,
      "outputs": [
        {
          "output_type": "stream",
          "name": "stdout",
          "text": [
            "Standard Deviation: 12.315302134607444\n"
          ]
        }
      ]
    },
    {
      "cell_type": "code",
      "source": [
        "#Boolean indexing, conditional replacement\n",
        "#In NumPy, boolean indexing allows us to filter elements from an array based on a specific condition.\n",
        "\n",
        "import numpy as np\n",
        "\n",
        "arr = np.array([1, 5, 2, 8, 3, 6])\n",
        "\n",
        "arr[arr > 5] = 0\n",
        "print(arr)\n",
        "\n",
        "\n",
        "# create an array of numbers\n",
        "array1 = np.array([1, 2, 3, 4, 5, 6, 7, 8, 9, 10])\n",
        "\n",
        "# create a boolean mask\n",
        "boolean_mask = array1 % 2 != 0\n",
        "\n",
        "# boolean indexing to filter the odd numbers\n",
        "result = array1[boolean_mask]\n",
        "\n",
        "print(result)\n",
        "\n"
      ],
      "metadata": {
        "colab": {
          "base_uri": "https://localhost:8080/"
        },
        "id": "jm6l8t-wplbl",
        "outputId": "4b0a92d7-8ac4-4089-bd71-058e1d55015d"
      },
      "execution_count": null,
      "outputs": [
        {
          "output_type": "stream",
          "name": "stdout",
          "text": [
            "[1 5 2 0 3 0]\n",
            "[1 3 5 7 9]\n"
          ]
        }
      ]
    },
    {
      "cell_type": "code",
      "source": [
        "#conditional replacement-It takes three arguments: condition, x, and y.\n",
        "#condition: A boolean array or condition that evaluates to a boolean array.\n",
        "#x: The value to use where the condition is True.\n",
        "#y: The value to use where the condition is False.\n",
        "#If x and y are arrays, they must be broadcastable to the shape of the condition.\n",
        "import numpy as np\n",
        "\n",
        "arr = np.array([1, 5, 2, 8, 3, 6])\n",
        "# Replace elements greater than 5 with 0, otherwise keep the original value\n",
        "modified_arr = np.where(arr > 5, 0, arr)\n",
        "print(modified_arr)\n",
        "\n",
        "\n",
        "# Replace elements greater than 5 with 10, and elements less than or equal to 5 with -1\n",
        "modified_arr_complex = np.where(arr > 5, 10, -1)\n",
        "print(modified_arr_complex)\n"
      ],
      "metadata": {
        "colab": {
          "base_uri": "https://localhost:8080/"
        },
        "id": "4kio7E_GsO7K",
        "outputId": "e7888470-edd7-4ba2-f69e-af70d81f3f90"
      },
      "execution_count": null,
      "outputs": [
        {
          "output_type": "stream",
          "name": "stdout",
          "text": [
            "[1 5 2 0 3 0]\n",
            "[-1 -1 -1 10 -1 10]\n"
          ]
        }
      ]
    },
    {
      "cell_type": "code",
      "source": [
        "#Given a 2D NumPy array of daily sensor data (rows: days, cols: sensors):\n",
        "#Compute the average per sensor.\n",
        "#Find the day with maximum total reading.\n",
        "import numpy as np\n",
        "data=np.random.randint(10,100,size=(7,4))\n",
        "print(data)\n",
        "\n",
        "average_per_sensor=np.mean(data,axis=0)\n",
        "print(average_per_sensor)\n",
        "\n",
        "max_total_reading=np.argmax(np.sum(data,axis=1))\n",
        "print(max_total_reading)\n"
      ],
      "metadata": {
        "colab": {
          "base_uri": "https://localhost:8080/"
        },
        "id": "Ft9hNHHAsuPf",
        "outputId": "01301356-34d2-4318-b9d5-7dcf32d70f23"
      },
      "execution_count": null,
      "outputs": [
        {
          "output_type": "stream",
          "name": "stdout",
          "text": [
            "[[72 50 29 51]\n",
            " [81 89 73 20]\n",
            " [94 88 71 31]\n",
            " [61 41 97 87]\n",
            " [27 81 95 26]\n",
            " [11 84 34 87]\n",
            " [16 58 78 70]]\n",
            "[51.71428571 70.14285714 68.14285714 53.14285714]\n",
            "3\n"
          ]
        }
      ]
    },
    {
      "cell_type": "code",
      "source": [
        "import numpy as np\n",
        "\n",
        "    # Assuming 'data.csv' contains numerical data separated by commas\n",
        "data_array = np.genfromtxt('/content/data.csv',  delimiter=',')\n",
        "print(data_array)"
      ],
      "metadata": {
        "colab": {
          "base_uri": "https://localhost:8080/"
        },
        "id": "Qe11cGI46qBS",
        "outputId": "77700e57-9259-4b77-9fde-734a80372d8b"
      },
      "execution_count": 6,
      "outputs": [
        {
          "output_type": "stream",
          "name": "stdout",
          "text": [
            "[[    nan     nan     nan ...     nan     nan     nan]\n",
            " [-0.4394 -0.093   0.1718 ...  0.5898 -0.4872     nan]\n",
            " [-0.4348 -0.1198  0.2474 ...  0.4546 -0.091      nan]\n",
            " ...\n",
            " [-0.6696 -0.373   0.1584 ...  0.0728 -0.5818     nan]\n",
            " [-0.5764 -0.1764  0.5106 ... -0.0434 -0.5        nan]\n",
            " [-0.6624 -0.3334  0.3666 ... -0.1708 -0.317      nan]]\n"
          ]
        }
      ]
    },
    {
      "cell_type": "code",
      "source": [
        "#Memory-efficient transformations\n",
        "#1)use in-place operations- avoid making new arrays\n",
        "import numpy as np\n",
        "arr=np.array([1,2,3,4])\n",
        "arr *= 2\n",
        "print(arr)"
      ],
      "metadata": {
        "colab": {
          "base_uri": "https://localhost:8080/"
        },
        "id": "anJR8ewbyBDu",
        "outputId": "5a5cac57-b567-40a1-9de9-79aa81bba5cc"
      },
      "execution_count": 8,
      "outputs": [
        {
          "output_type": "stream",
          "name": "stdout",
          "text": [
            "[2 4 6 8]\n"
          ]
        }
      ]
    },
    {
      "cell_type": "code",
      "source": [
        "#use smaller data types\n",
        "import numpy as np\n",
        "arr=np.array([1,2,3,4],dtype=np.int8)\n",
        "print(arr)"
      ],
      "metadata": {
        "colab": {
          "base_uri": "https://localhost:8080/"
        },
        "id": "YU2aUIrl17yy",
        "outputId": "48fa9843-7bfa-4606-d4cf-760d32c645d0"
      },
      "execution_count": 9,
      "outputs": [
        {
          "output_type": "stream",
          "name": "stdout",
          "text": [
            "[1 2 3 4]\n"
          ]
        }
      ]
    },
    {
      "cell_type": "code",
      "source": [
        "#use views and copies\n",
        "arr=np.array([1,2,3,4])\n",
        "view_arr=arr.view()\n",
        "copy_arr=arr.copy()\n",
        "print(view_arr)\n",
        "print(copy_arr)"
      ],
      "metadata": {
        "colab": {
          "base_uri": "https://localhost:8080/"
        },
        "id": "VTVknMH82E7Q",
        "outputId": "8b231f7c-a5fd-49ff-a241-9bac8e6badf4"
      },
      "execution_count": 10,
      "outputs": [
        {
          "output_type": "stream",
          "name": "stdout",
          "text": [
            "[1 2 3 4]\n",
            "[1 2 3 4]\n"
          ]
        }
      ]
    },
    {
      "cell_type": "code",
      "source": [
        "#avoid unnecessary intermediate arrays\n",
        "import numpy as np\n",
        "arr1=np.array([1,2,3,4])\n",
        "arr2=np.array([5,6,7,8])\n",
        "result=np.add(arr1,arr2)\n",
        "print(result)"
      ],
      "metadata": {
        "id": "BEFmS5sy2-AJ"
      },
      "execution_count": null,
      "outputs": []
    },
    {
      "cell_type": "code",
      "source": [
        "#Create a data generator that outputs daily sensor data\n",
        "import numpy as np\n",
        "import datetime\n",
        "def generator_data(days=7,sensors=4,seed=42):\n",
        "  np.random.seed(seed)\n",
        "  data=np.random.randint(10,100,size=(days,sensors))\n",
        "  start_date=datetime.datetime.now()\n",
        "  dates=[start_date + datetime.timedelta(days=i) for i in range(days)]\n",
        "  for i in range(days):\n",
        "    print(dates[i],data[i])\n",
        "    return np.array(dates),data\n",
        "\n",
        "dates,sensors_data=generator_data()\n",
        "for i in range(len(dates)):\n",
        "  print(dates[i],sensors_data[i])"
      ],
      "metadata": {
        "colab": {
          "base_uri": "https://localhost:8080/"
        },
        "id": "2XkxywUK-QJ8",
        "outputId": "25296cac-c596-4933-e169-c81ed3df8bf8"
      },
      "execution_count": 24,
      "outputs": [
        {
          "output_type": "stream",
          "name": "stdout",
          "text": [
            "2025-07-14 14:04:03.182742 [61 24 81 70]\n",
            "2025-07-14 14:04:03.182742 [61 24 81 70]\n",
            "2025-07-15 14:04:03.182742 [30 92 96 84]\n",
            "2025-07-16 14:04:03.182742 [84 97 33 12]\n",
            "2025-07-17 14:04:03.182742 [31 62 11 97]\n",
            "2025-07-18 14:04:03.182742 [39 47 11 73]\n",
            "2025-07-19 14:04:03.182742 [69 30 42 85]\n",
            "2025-07-20 14:04:03.182742 [67 31 98 58]\n"
          ]
        }
      ]
    },
    {
      "cell_type": "code",
      "source": [
        "#Exercise 10:\n",
        "#Simulate one week of hourly power consumption data:\n",
        "#7x24 matrix.\n",
        "#Calculate total, average, and variance per day.\n",
        "\n",
        "import numpy as np\n",
        "data=np.random.randint(100,500,(7,24))\n",
        "print('total',np.sum(data,axis=1))\n",
        "print('average',np.mean(data,axis=1))\n",
        "print('variance',np.var(data,axis=1))\n"
      ],
      "metadata": {
        "colab": {
          "base_uri": "https://localhost:8080/"
        },
        "id": "Umr427ASQSNW",
        "outputId": "ee2e4c52-5454-4912-b584-51df680fdcf8"
      },
      "execution_count": 27,
      "outputs": [
        {
          "output_type": "stream",
          "name": "stdout",
          "text": [
            "total [6687 7723 7647 7187 7656 6614 7182]\n",
            "average [278.625      321.79166667 318.625      299.45833333 319.\n",
            " 275.58333333 299.25      ]\n",
            "variance [11469.90104167 12867.33159722 13982.31770833 14665.99826389\n",
            " 11110.5        11371.74305556 12457.52083333]\n"
          ]
        }
      ]
    }
  ]
}