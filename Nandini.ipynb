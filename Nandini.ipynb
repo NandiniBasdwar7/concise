{
  "nbformat": 4,
  "nbformat_minor": 0,
  "metadata": {
    "colab": {
      "provenance": [],
      "authorship_tag": "ABX9TyMyP1YPfyl7jHBnmLk1H7cg",
      "include_colab_link": true
    },
    "kernelspec": {
      "name": "python3",
      "display_name": "Python 3"
    },
    "language_info": {
      "name": "python"
    }
  },
  "cells": [
    {
      "cell_type": "markdown",
      "metadata": {
        "id": "view-in-github",
        "colab_type": "text"
      },
      "source": [
        "<a href=\"https://colab.research.google.com/github/NandiniBasdwar7/concise/blob/main/Nandini.ipynb\" target=\"_parent\"><img src=\"https://colab.research.google.com/assets/colab-badge.svg\" alt=\"Open In Colab\"/></a>"
      ]
    },
    {
      "cell_type": "code",
      "execution_count": 14,
      "metadata": {
        "colab": {
          "base_uri": "https://localhost:8080/"
        },
        "id": "PVHiG7N12jfE",
        "outputId": "33274b44-0541-41c9-9469-e657093aca05"
      },
      "outputs": [
        {
          "output_type": "stream",
          "name": "stdout",
          "text": [
            "<class 'str'> <class 'int'> <class 'float'> <class 'bool'>\n"
          ]
        }
      ],
      "source": [
        "#variables and Data types\n",
        "name='Nandini'\n",
        "age=25\n",
        "height=5.1\n",
        "is_active=True\n",
        "print(type(name),type(age),type(height),type(is_active))"
      ]
    },
    {
      "cell_type": "code",
      "source": [
        "#data structure\n",
        "#(1)list\n",
        "fruits=['apple','banana','mango']\n",
        "#fruits.append(['orange'])\n",
        "#fruits.extend(['orange'])\n",
        "fruits.index('apple')\n",
        "print(fruits)"
      ],
      "metadata": {
        "colab": {
          "base_uri": "https://localhost:8080/"
        },
        "id": "d_oWibw822pT",
        "outputId": "8e688662-a699-4a90-dec5-74271bd58667"
      },
      "execution_count": 96,
      "outputs": [
        {
          "output_type": "stream",
          "name": "stdout",
          "text": [
            "['apple', 'banana', 'mango']\n"
          ]
        }
      ]
    },
    {
      "cell_type": "code",
      "source": [
        "#(2)Tuple-tuple is immutable,not changed,it is ordered collection\n",
        "x=(10,20)\n",
        "print(x[0])\n",
        "y=list(x)\n",
        "print(y,type(y))\n"
      ],
      "metadata": {
        "colab": {
          "base_uri": "https://localhost:8080/"
        },
        "id": "MS_JIdIG3K0h",
        "outputId": "a8aa763d-e4c3-4104-f1b4-d9550c5d938d"
      },
      "execution_count": 5,
      "outputs": [
        {
          "output_type": "stream",
          "name": "stdout",
          "text": [
            "10\n",
            "[10, 20] <class 'list'>\n"
          ]
        }
      ]
    },
    {
      "cell_type": "code",
      "source": [
        "#Dictionary-it is collection of key-value pair,it is a order and Mutable it is changed and modify..\n",
        "stu={\"name\":\"Nandini\",\"age\":25}\n",
        "print(stu)\n",
        "print(stu['name'])"
      ],
      "metadata": {
        "colab": {
          "base_uri": "https://localhost:8080/"
        },
        "id": "lXbzUN1j6Q6o",
        "outputId": "518958ce-2065-4ccd-bdee-74a6f57a4801"
      },
      "execution_count": 12,
      "outputs": [
        {
          "output_type": "stream",
          "name": "stdout",
          "text": [
            "{'name': 'Nandini', 'age': 25}\n",
            "Nandini\n"
          ]
        }
      ]
    },
    {
      "cell_type": "code",
      "source": [
        "#SET-it is unorderd collection of unique value..it is also Mutable\n",
        "nums={1,2,3,3,2,1,4,4,5}\n",
        "print(nums)"
      ],
      "metadata": {
        "colab": {
          "base_uri": "https://localhost:8080/"
        },
        "id": "FOhl1aLV6s2o",
        "outputId": "0ffe06d4-3851-4c81-a329-8bb0fe9c809b"
      },
      "execution_count": 13,
      "outputs": [
        {
          "output_type": "stream",
          "name": "stdout",
          "text": [
            "{1, 2, 3, 4, 5}\n"
          ]
        }
      ]
    },
    {
      "cell_type": "code",
      "source": [
        "#String manipulations\n",
        "text='Hello World'\n",
        "print(text.strip())\n",
        "print(text.lower())\n",
        "print(text.upper())\n",
        "print(text.replace('world','python'))\n",
        "print(text.split(' '))\n",
        "# Hello World"
      ],
      "metadata": {
        "colab": {
          "base_uri": "https://localhost:8080/"
        },
        "id": "9lgdu6Hs9YY6",
        "outputId": "f459a81a-dfde-4c14-fec5-92ff6022d237"
      },
      "execution_count": 82,
      "outputs": [
        {
          "output_type": "stream",
          "name": "stdout",
          "text": [
            "Hello World\n",
            "hello world\n",
            "HELLO WORLD\n",
            "Hello World\n",
            "['Hello', 'World']\n"
          ]
        }
      ]
    },
    {
      "cell_type": "code",
      "source": [
        "#🧠 Mini Project: Parse and clean a CSV-like string input\n",
        "data=['  name 1:Nandini ,age:25,role:Developer','name:Shivani,age:22,role:Designer','name:Neha,age:28,role:Manager']\n",
        "result=[]\n",
        "for i in data:\n",
        "  entry={}\n",
        "  parts=i.split(',')\n",
        "  for j in parts:\n",
        "    key,value=j.strip().split(':')\n",
        "    key=key.strip()\n",
        "    value=value.strip()\n",
        "    if key=='age':\n",
        "      value=int(value)\n",
        "    entry[key]=value\n",
        "  result.append(entry)\n",
        "print(result)"
      ],
      "metadata": {
        "colab": {
          "base_uri": "https://localhost:8080/"
        },
        "id": "VQAIleX7-sZI",
        "outputId": "883b13fe-a993-4e48-faf6-66e473977061"
      },
      "execution_count": 72,
      "outputs": [
        {
          "output_type": "stream",
          "name": "stdout",
          "text": [
            "[{'name 1': 'Nandin i', 'age': 25, 'role': 'Developer'}, {'name': 'Shivani', 'age': 22, 'role': 'Designer'}, {'name': 'Neha', 'age': 28, 'role': 'Manager'}]\n"
          ]
        }
      ]
    },
    {
      "cell_type": "code",
      "source": [
        "#Exercise 1:\n",
        " #Write a Python script to:\n",
        "#Parse a string like \"name:John, age:30, role:engineer\" into a dictionary.\n",
        "input='name:John,age:30,role:Engineer'\n",
        "result=dict(item.strip().split(':') for item in input.split(','))\n",
        "print(result)\n",
        "\n"
      ],
      "metadata": {
        "colab": {
          "base_uri": "https://localhost:8080/"
        },
        "id": "NWn90VfmDa4Y",
        "outputId": "d36987dc-e3e5-4739-8c9e-4f2e151ec02f"
      },
      "execution_count": 55,
      "outputs": [
        {
          "output_type": "stream",
          "name": "stdout",
          "text": [
            "{'name': 'John', 'age': '30', 'role': 'Engineer'}\n"
          ]
        }
      ]
    },
    {
      "cell_type": "code",
      "source": [
        "#Convert list of such strings into a list of dictionaries.\n",
        "data=['name:Nandini,age:25,role:Developer','name:shivam,age:25,role:Manager']\n",
        "result=[dict(item.strip().split(':')for item in line.split(',')for line in data)]\n",
        "print(result)"
      ],
      "metadata": {
        "colab": {
          "base_uri": "https://localhost:8080/"
        },
        "id": "S5i4p6bpVjhv",
        "outputId": "48bafb03-2235-4428-8671-d1511bfac7ca"
      },
      "execution_count": 73,
      "outputs": [
        {
          "output_type": "stream",
          "name": "stdout",
          "text": [
            "[{'name': 'Neha', 'age': '28', 'role': 'Manager'}]\n"
          ]
        }
      ]
    },
    {
      "cell_type": "code",
      "source": [
        "# Create a function to extract domains from a list of emails.\n",
        "def extract_domain(email_list):\n",
        "  domains =[]\n",
        "  for email in email_list:\n",
        "    domain=email.split('@')[1]\n",
        "    domains.append(domain)\n",
        "  return domains\n",
        "\n",
        "emails=['nandini@gmail.com','shri@yahoo.com','kanha@outlook.com']\n",
        "result = extract_domain(emails)\n",
        "print(result)"
      ],
      "metadata": {
        "colab": {
          "base_uri": "https://localhost:8080/"
        },
        "id": "fAutGiD2tqPm",
        "outputId": "b36a5402-fec4-449c-d879-6d82fa123489"
      },
      "execution_count": 85,
      "outputs": [
        {
          "output_type": "stream",
          "name": "stdout",
          "text": [
            "['gmail.com', 'yahoo.com', 'outlook.com']\n"
          ]
        }
      ]
    }
  ]
}