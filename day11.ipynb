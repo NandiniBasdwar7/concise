{
  "nbformat": 4,
  "nbformat_minor": 0,
  "metadata": {
    "colab": {
      "provenance": [],
      "authorship_tag": "ABX9TyNP5eRGgw/oNgvGQs0062Ul",
      "include_colab_link": true
    },
    "kernelspec": {
      "name": "python3",
      "display_name": "Python 3"
    },
    "language_info": {
      "name": "python"
    }
  },
  "cells": [
    {
      "cell_type": "markdown",
      "metadata": {
        "id": "view-in-github",
        "colab_type": "text"
      },
      "source": [
        "<a href=\"https://colab.research.google.com/github/NandiniBasdwar7/concise/blob/main/day11.ipynb\" target=\"_parent\"><img src=\"https://colab.research.google.com/assets/colab-badge.svg\" alt=\"Open In Colab\"/></a>"
      ]
    },
    {
      "cell_type": "code",
      "execution_count": 1,
      "metadata": {
        "colab": {
          "base_uri": "https://localhost:8080/"
        },
        "id": "DNMZyLlS8tor",
        "outputId": "cc379686-49ed-4782-8e7d-bad94d6b3d4f"
      },
      "outputs": [
        {
          "output_type": "stream",
          "name": "stdout",
          "text": [
            "Original DataFrame:\n",
            "  Category SubCategory  Value1  Value2\n",
            "0        A           X      10       1\n",
            "1        B           Y      20       2\n",
            "2        A           X      15       1\n",
            "3        C           Z      25       3\n",
            "4        B           Y      30       2\n",
            "5        A           W      12       4\n",
            "6        C           Z      22       3\n",
            "7        B           W      28       4\n",
            "\n",
            "\n"
          ]
        }
      ],
      "source": [
        "#GroupBy and Aggregations\n",
        "#Groupby()-he DataFrame.groupby() method in Pandas is a powerful tool for analyzing and manipulating data by grouping rows or columns based on one or more criteria. It is often likened to the GROUP BY clause in SQL. This function facilitates the \"split-apply-combine\" strategy for data analysis\n",
        "import pandas as pd\n",
        "import numpy as np\n",
        "\n",
        "# Sample DataFrame for demonstration\n",
        "data = {\n",
        "    'Category': ['A', 'B', 'A', 'C', 'B', 'A', 'C', 'B'],\n",
        "    'SubCategory': ['X', 'Y', 'X', 'Z', 'Y', 'W', 'Z', 'W'],\n",
        "    'Value1': [10, 20, 15, 25, 30, 12,22, 28 ],\n",
        "    'Value2': [1, 2, 1, 3, 2, 4, 3, 4]\n",
        "}\n",
        "df = pd.DataFrame(data)\n",
        "print(\"Original DataFrame:\")\n",
        "print(df)\n",
        "print(\"\\n\")\n"
      ]
    },
    {
      "cell_type": "code",
      "source": [
        "#by parameter-Grouping by a single column: Data is grouped by the unique values in the 'Category' column, and then the sum of 'Value1' is calculated for each category.\n",
        "grouped_single = df.groupby('Category')['Value1'].sum()\n",
        "print(\"Grouped by 'Category':\")\n",
        "print(grouped_single)\n",
        "print(\"\\n\")"
      ],
      "metadata": {
        "colab": {
          "base_uri": "https://localhost:8080/"
        },
        "id": "6PxbkGZS9vDz",
        "outputId": "a41154c8-6121-4089-a0e8-a49f33b52b66"
      },
      "execution_count": 3,
      "outputs": [
        {
          "output_type": "stream",
          "name": "stdout",
          "text": [
            "Grouped by 'Category':\n",
            "Category\n",
            "A    37\n",
            "B    78\n",
            "C    47\n",
            "Name: Value1, dtype: int64\n",
            "\n",
            "\n"
          ]
        }
      ]
    },
    {
      "cell_type": "code",
      "source": [
        "#Grouping by multiple columns\n",
        "\n",
        "grouped_multiple = df.groupby([ 'SubCategory','Category'])['Value2'].mean()\n",
        "print(\"Grouped by 'Category' and 'SubCategory':\")\n",
        "print(grouped_multiple)\n",
        "print(\"\\n\")\n"
      ],
      "metadata": {
        "colab": {
          "base_uri": "https://localhost:8080/"
        },
        "id": "aN6TS21t-GyQ",
        "outputId": "46589fdf-12e8-4a20-8de6-095eaef5e7ea"
      },
      "execution_count": 19,
      "outputs": [
        {
          "output_type": "stream",
          "name": "stdout",
          "text": [
            "Grouped by 'Category' and 'SubCategory':\n",
            "SubCategory  Category\n",
            "W            A           4.0\n",
            "             B           4.0\n",
            "X            A           1.0\n",
            "Y            B           2.0\n",
            "Z            C           3.0\n",
            "Name: Value2, dtype: float64\n",
            "\n",
            "\n"
          ]
        }
      ]
    },
    {
      "cell_type": "code",
      "source": [
        "import pandas as pd\n",
        "\n",
        "data = {'col1': [1, 2, 3], 'col2': [4, 5, 6]}\n",
        "df = pd.DataFrame(data)\n",
        "\n",
        "# Group by rows (default axis=0), then calculate the sum of each group\n",
        "grouped_rows = df.groupby('col1',axis=0).sum()  # This will group by index\n",
        "print(grouped_rows)\n"
      ],
      "metadata": {
        "colab": {
          "base_uri": "https://localhost:8080/"
        },
        "id": "yqagqkOuEISL",
        "outputId": "4fda611c-3069-4b82-c42f-2ebba10715a9"
      },
      "execution_count": 22,
      "outputs": [
        {
          "output_type": "stream",
          "name": "stdout",
          "text": [
            "      col2\n",
            "col1      \n",
            "1        4\n",
            "2        5\n",
            "3        6\n"
          ]
        },
        {
          "output_type": "stream",
          "name": "stderr",
          "text": [
            "/tmp/ipython-input-22-3989776277.py:7: FutureWarning: The 'axis' keyword in DataFrame.groupby is deprecated and will be removed in a future version.\n",
            "  grouped_rows = df.groupby('col1',axis=0).sum()  # This will group by index\n"
          ]
        }
      ]
    },
    {
      "cell_type": "code",
      "source": [
        "#level-The level parameter is used when working with a MultiIndex (hierarchical index) DataFrame. It allows you to group data based on one or more specific levels of the MultiIndex.\n",
        "import pandas as pd\n",
        "\n",
        "# Create a MultiIndex DataFrame\n",
        "index = pd.MultiIndex.from_arrays([['East', 'East', 'West', 'West'],\n",
        "                                    ['New York', 'Boston', 'Los Angeles', 'Seattle']],\n",
        "                                    names=['Region', 'City'])\n",
        "data = {'Sales': [100, 150, 200, 120]}\n",
        "df_multiindex = pd.DataFrame(data, index=index)\n",
        "\n",
        "# Group by the 'Region' level of the MultiIndex (level 0)\n",
        "grouped_by_region = df_multiindex.groupby(level='Region')['Sales'].sum()\n",
        "print(grouped_by_region)\n"
      ],
      "metadata": {
        "colab": {
          "base_uri": "https://localhost:8080/"
        },
        "id": "vKyX1V6CKTsw",
        "outputId": "c876f12b-a5c8-4a2a-b33a-7fc30e7d25e4"
      },
      "execution_count": 23,
      "outputs": [
        {
          "output_type": "stream",
          "name": "stdout",
          "text": [
            "Region\n",
            "East    250\n",
            "West    320\n",
            "Name: Sales, dtype: int64\n"
          ]
        }
      ]
    },
    {
      "cell_type": "code",
      "source": [
        "#as_index-This boolean parameter controls whether the group keys should be set as the index of the resulting DataFrame (True by default)\n",
        "import pandas as pd\n",
        "\n",
        "data = {'Category': ['A', 'B', 'A', 'C', 'B'],\n",
        "        'Value': [10, 20, 15, 25, 30]}\n",
        "df = pd.DataFrame(data)\n",
        "\n",
        "grouped_data = df.groupby('Category')['Value'].sum()\n",
        "print(grouped_data)"
      ],
      "metadata": {
        "colab": {
          "base_uri": "https://localhost:8080/"
        },
        "id": "kkPaNA74K4cj",
        "outputId": "38967853-8ced-4e9d-ffae-159c0084b76a"
      },
      "execution_count": 25,
      "outputs": [
        {
          "output_type": "stream",
          "name": "stdout",
          "text": [
            "Category\n",
            "A    25\n",
            "B    50\n",
            "C    25\n",
            "Name: Value, dtype: int64\n"
          ]
        }
      ]
    },
    {
      "cell_type": "code",
      "source": [
        "import pandas as pd\n",
        "\n",
        "data = {'Category': ['A', 'B', 'A', 'C', 'B'],\n",
        "        'Value': [10, 20, 15, 25, 30]}\n",
        "df = pd.DataFrame(data)\n",
        "\n",
        "# Using group_keys=True (default) with apply\n",
        "grouped_with_keys = df.groupby('Category', group_keys=True).apply(lambda x: x['Value'] * 2)\n",
        "print(grouped_with_keys)\n",
        "\n",
        "# Using group_keys=False\n",
        "grouped_without_keys = df.groupby('Category', group_keys=False).apply(lambda x: x['Value'] * 2)\n",
        "print(grouped_without_keys)"
      ],
      "metadata": {
        "colab": {
          "base_uri": "https://localhost:8080/"
        },
        "id": "wfj91xlKMco6",
        "outputId": "a08e40ac-9357-4c86-d17f-6a9079525adb"
      },
      "execution_count": 28,
      "outputs": [
        {
          "output_type": "stream",
          "name": "stdout",
          "text": [
            "Category   \n",
            "A         0    20\n",
            "          2    30\n",
            "B         1    40\n",
            "          4    60\n",
            "C         3    50\n",
            "Name: Value, dtype: int64\n",
            "0    20\n",
            "2    30\n",
            "1    40\n",
            "4    60\n",
            "3    50\n",
            "Name: Value, dtype: int64\n"
          ]
        },
        {
          "output_type": "stream",
          "name": "stderr",
          "text": [
            "/tmp/ipython-input-28-3228207295.py:8: DeprecationWarning: DataFrameGroupBy.apply operated on the grouping columns. This behavior is deprecated, and in a future version of pandas the grouping columns will be excluded from the operation. Either pass `include_groups=False` to exclude the groupings or explicitly select the grouping columns after groupby to silence this warning.\n",
            "  grouped_with_keys = df.groupby('Category', group_keys=True).apply(lambda x: x['Value'] * 2)\n",
            "/tmp/ipython-input-28-3228207295.py:12: DeprecationWarning: DataFrameGroupBy.apply operated on the grouping columns. This behavior is deprecated, and in a future version of pandas the grouping columns will be excluded from the operation. Either pass `include_groups=False` to exclude the groupings or explicitly select the grouping columns after groupby to silence this warning.\n",
            "  grouped_without_keys = df.groupby('Category', group_keys=False).apply(lambda x: x['Value'] * 2)\n"
          ]
        }
      ]
    },
    {
      "cell_type": "code",
      "source": [
        "#Basic Aggregation:-A single aggregation function can be applied to a DataFrame or Series.\n",
        "import pandas as pd\n",
        "\n",
        "data = {'A': [1, 2, 3], 'B': [4, 5, 6]}\n",
        "df = pd.DataFrame(data)\n",
        "\n",
        "# Calculate the sum of each column\n",
        "result = df.agg('sum')\n",
        "print(result)"
      ],
      "metadata": {
        "colab": {
          "base_uri": "https://localhost:8080/"
        },
        "id": "91BD4PirZXw5",
        "outputId": "49111973-ecdb-497e-f685-7b20c1a7226f"
      },
      "execution_count": 29,
      "outputs": [
        {
          "output_type": "stream",
          "name": "stdout",
          "text": [
            "A     6\n",
            "B    15\n",
            "dtype: int64\n"
          ]
        }
      ]
    },
    {
      "cell_type": "code",
      "source": [
        "#Applying Multiple Functions:-Multiple functions can be applied at once by passing a list of function names to agg().\n",
        "import pandas as pd\n",
        "\n",
        "data = {'A': [1, 2, 3], 'B': [4, 5, 6]}\n",
        "df = pd.DataFrame(data)\n",
        "result=df.agg(['sum','mean'])\n",
        "print(result)"
      ],
      "metadata": {
        "colab": {
          "base_uri": "https://localhost:8080/"
        },
        "id": "s09FXaWIZpaT",
        "outputId": "0e11025b-2640-4151-c20a-d2f389ea4990"
      },
      "execution_count": 32,
      "outputs": [
        {
          "output_type": "stream",
          "name": "stdout",
          "text": [
            "        A     B\n",
            "sum   6.0  15.0\n",
            "mean  2.0   5.0\n"
          ]
        }
      ]
    },
    {
      "cell_type": "code",
      "source": [
        "#Different Aggregations for Different Columns:\n",
        "import pandas as pd\n",
        "\n",
        "data = {'A': [1, 2, 3], 'B': [4, 5, 6]}\n",
        "df = pd.DataFrame(data)\n",
        "result=df.agg({'A':'sum',\"B\":'mean'})\n",
        "print(result)"
      ],
      "metadata": {
        "colab": {
          "base_uri": "https://localhost:8080/"
        },
        "id": "zMRqhkn-aKZo",
        "outputId": "218d2c11-5498-48a4-aaf1-00ccdf1b954e"
      },
      "execution_count": 34,
      "outputs": [
        {
          "output_type": "stream",
          "name": "stdout",
          "text": [
            "A    6.0\n",
            "B    5.0\n",
            "dtype: float64\n"
          ]
        }
      ]
    },
    {
      "cell_type": "code",
      "source": [
        "#Custom Aggregation Functions\n",
        "import pandas as pd\n",
        "\n",
        "data = {'A': [1, 2, 3], 'B': [4, 5, 6]}\n",
        "df = pd.DataFrame(data)\n",
        "def custom_sum(x):\n",
        "    return x.max()-x.min()\n",
        "result=df.agg({'A':custom_sum,\"B\":'mean'})\n",
        "print(result)"
      ],
      "metadata": {
        "colab": {
          "base_uri": "https://localhost:8080/"
        },
        "id": "IrHaP3UWan07",
        "outputId": "3560a6d3-008f-4ec0-adf2-4cf35b4f5928"
      },
      "execution_count": 37,
      "outputs": [
        {
          "output_type": "stream",
          "name": "stdout",
          "text": [
            "A    2.0\n",
            "B    5.0\n",
            "dtype: float64\n"
          ]
        }
      ]
    },
    {
      "cell_type": "code",
      "source": [],
      "metadata": {
        "id": "7gg7k6oYb9cW"
      },
      "execution_count": null,
      "outputs": []
    }
  ]
}