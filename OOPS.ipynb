{
  "nbformat": 4,
  "nbformat_minor": 0,
  "metadata": {
    "colab": {
      "provenance": [],
      "authorship_tag": "ABX9TyOEHJxdV6lsH3jGliJKxZpK",
      "include_colab_link": true
    },
    "kernelspec": {
      "name": "python3",
      "display_name": "Python 3"
    },
    "language_info": {
      "name": "python"
    }
  },
  "cells": [
    {
      "cell_type": "markdown",
      "metadata": {
        "id": "view-in-github",
        "colab_type": "text"
      },
      "source": [
        "<a href=\"https://colab.research.google.com/github/NandiniBasdwar7/concise/blob/main/OOPS.ipynb\" target=\"_parent\"><img src=\"https://colab.research.google.com/assets/colab-badge.svg\" alt=\"Open In Colab\"/></a>"
      ]
    },
    {
      "cell_type": "code",
      "execution_count": null,
      "metadata": {
        "colab": {
          "base_uri": "https://localhost:8080/"
        },
        "id": "Egr5HwBlvZwu",
        "outputId": "28cb801d-5346-4278-81ea-8ceb0e8ddb39"
      },
      "outputs": [
        {
          "output_type": "stream",
          "name": "stdout",
          "text": [
            "rame\n",
            "26\n"
          ]
        }
      ],
      "source": [
        "class student:# class name\n",
        "    def __init__(self,name,age): # method\n",
        "        self.name=name #attribute\n",
        "        self.age=age\n",
        "s2=student('rame',26)#object\n",
        "print(s2.name)\n",
        "print(s2.age)"
      ]
    },
    {
      "cell_type": "code",
      "source": [
        "class Dog:\n",
        "  species='canine'# class attribute\n",
        "  def __init__(self,name,age):\n",
        "    self.name=name\n",
        "    self.age=age\n",
        "\n",
        "dog1=Dog('tommy',12)\n",
        "dog2=Dog('buddy',12)\n",
        "print(dog1.name)\n",
        "print(dog1.species)\n"
      ],
      "metadata": {
        "colab": {
          "base_uri": "https://localhost:8080/"
        },
        "id": "kO9y6oewxI59",
        "outputId": "2da8c48e-0544-4651-9724-7de87b7d33a4"
      },
      "execution_count": null,
      "outputs": [
        {
          "output_type": "stream",
          "name": "stdout",
          "text": [
            "tommy\n",
            "canine\n"
          ]
        }
      ]
    },
    {
      "cell_type": "code",
      "source": [
        "dog1.name='Max'\n",
        "print(dog1.name)"
      ],
      "metadata": {
        "colab": {
          "base_uri": "https://localhost:8080/"
        },
        "id": "zy0K3V2B0DW7",
        "outputId": "a72bde0d-d9fa-43ca-cf77-2f113b817292"
      },
      "execution_count": null,
      "outputs": [
        {
          "output_type": "stream",
          "name": "stdout",
          "text": [
            "Max\n"
          ]
        }
      ]
    },
    {
      "cell_type": "code",
      "source": [
        "#Define a Truck class with attributes: location, load_capacity, driver.\n",
        "class Truck:\n",
        "  def __init__(self,location,load_capacity,driver):\n",
        "    self.location=location\n",
        "    self.load_capacity=load_capacity\n",
        "    self.driver=driver\n",
        "\n",
        "  def display_info(self):\n",
        "    print(f'Truck is at {self.location},carry {self.load_capacity} tons,driven by {self.driver}')\n",
        "\n",
        "Truck1=Truck('indore',20,'xyz')\n",
        "Truck1.display_info()"
      ],
      "metadata": {
        "colab": {
          "base_uri": "https://localhost:8080/"
        },
        "id": "2CRZaS0QbA3B",
        "outputId": "a848755f-1b1d-4009-e16e-6a6f4a352108"
      },
      "execution_count": 8,
      "outputs": [
        {
          "output_type": "stream",
          "name": "stdout",
          "text": [
            "Truck is at indore,carry 20 tons,driven by xyz\n"
          ]
        }
      ]
    },
    {
      "cell_type": "code",
      "source": [
        "#custom string-__str__() Method str__ method in Python allows us to define a custom string representation of an object.\n",
        "class Dog:\n",
        "  species='canine'\n",
        "  def __init__(self,name,age):\n",
        "    self.name=name\n",
        "    self.age=age\n",
        "  def __str__(self):#\n",
        "    return f'{self.name} is {self.age} years old'\n",
        "dog1=Dog('tommy',12)\n",
        "dog2=Dog('puppy',3)\n",
        "print(dog2)\n"
      ],
      "metadata": {
        "colab": {
          "base_uri": "https://localhost:8080/"
        },
        "id": "KCY2dZ6x9gwf",
        "outputId": "20979695-eff8-4b00-cc47-db354a56f740"
      },
      "execution_count": 12,
      "outputs": [
        {
          "output_type": "stream",
          "name": "stdout",
          "text": [
            "puppy is 3 years old\n"
          ]
        }
      ]
    },
    {
      "cell_type": "code",
      "source": [
        "#Create multiple instances and print their properties.\n",
        "Truck2=Truck('bhopal',15,'abc')\n",
        "Truck2.display_info()\n",
        "Truck3=Truck('mhow',30,'shubham')\n",
        "Truck3.display_info()"
      ],
      "metadata": {
        "colab": {
          "base_uri": "https://localhost:8080/"
        },
        "id": "Jn9AtKlVdswo",
        "outputId": "664c458c-95eb-42ce-cade-da7bf4d0a6e0"
      },
      "execution_count": 11,
      "outputs": [
        {
          "output_type": "stream",
          "name": "stdout",
          "text": [
            "Truck is at bhopal,carry 15 tons,driven by abc\n",
            "Truck is at mhow,carry 30 tons,driven by shubham\n"
          ]
        }
      ]
    },
    {
      "cell_type": "code",
      "source": [
        "class Truck:\n",
        "    def __init__(self, location, load_capacity, driver):\n",
        "        self.location = location\n",
        "        self.load_capacity = load_capacity\n",
        "        self.driver = driver\n",
        "        self.is_overloaded = False\n",
        "\n",
        "    def check_overloaded(self, current_weight):\n",
        "        if current_weight > self.load_capacity:\n",
        "            self.is_overloaded = True\n",
        "        else:\n",
        "            self.is_overloaded = False\n",
        "\n",
        "    def display_info(self):\n",
        "        print(f'Truck is at {self.location}, carries {self.load_capacity} tons, driven by {self.driver}')\n",
        "\n",
        "# Create object\n",
        "Truck4 = Truck('Indore', 35, 'Shivam')\n",
        "\n",
        "Truck4.check_overloaded(40)\n",
        "print(f\"Is truck overloaded? {Truck4.is_overloaded}\")\n"
      ],
      "metadata": {
        "colab": {
          "base_uri": "https://localhost:8080/"
        },
        "id": "2I7MlPGeg9MN",
        "outputId": "70a3b5e3-ed32-48ae-f617-35e34adbbb02"
      },
      "execution_count": 25,
      "outputs": [
        {
          "output_type": "stream",
          "name": "stdout",
          "text": [
            "Is truck overloaded? True\n"
          ]
        }
      ]
    },
    {
      "cell_type": "code",
      "source": [
        "#Decorator-inside function add another function to enchanced functionality\n",
        "def Decorator(func):\n",
        "  def wrapper(a,b):\n",
        "    print('before function')\n",
        "    print(a*b)\n",
        "    func()\n",
        "    print('after function')\n",
        "  return wrapper\n",
        "\n",
        "@Decorator\n",
        "def function():\n",
        "  print('inside function')\n",
        "function(3,4)"
      ],
      "metadata": {
        "colab": {
          "base_uri": "https://localhost:8080/"
        },
        "id": "KEh1N-gUhx-K",
        "outputId": "de1d8fd5-75b2-4b22-ffad-d7fb4b810d77"
      },
      "execution_count": 39,
      "outputs": [
        {
          "output_type": "stream",
          "name": "stdout",
          "text": [
            "before function\n",
            "12\n",
            "inside function\n",
            "after function\n"
          ]
        }
      ]
    },
    {
      "cell_type": "code",
      "source": [
        "#encaplsulation-only show necessary things.\n",
        "class Employee:\n",
        "  def __init__(self):\n",
        "    self._salary=50000 #private attribute\n",
        "  def get_salary(self):#getter\n",
        "    return self._salary\n",
        "  def set_salary(self,amount):#setter\n",
        "    self._salary=amount\n",
        "emp=Employee()\n",
        "print(emp.get_salary())\n",
        "emp.set_salary(60000)\n",
        "print(emp.get_salary())\n",
        "\n"
      ],
      "metadata": {
        "colab": {
          "base_uri": "https://localhost:8080/"
        },
        "id": "82cLDQJ7plU0",
        "outputId": "160c8eda-71fa-49f6-8619-8704042f5335"
      },
      "execution_count": 41,
      "outputs": [
        {
          "output_type": "stream",
          "name": "stdout",
          "text": [
            "50000\n",
            "60000\n"
          ]
        }
      ]
    },
    {
      "cell_type": "code",
      "source": [
        "# @ property\n",
        "class circle:\n",
        "  def __init__(self,radius):\n",
        "    self._radius=radius\n",
        "  @property\n",
        "  def area(self):\n",
        "    return 3.14*self._radius**2\n",
        "c=circle(5)\n",
        "print(c.area)"
      ],
      "metadata": {
        "colab": {
          "base_uri": "https://localhost:8080/"
        },
        "id": "FhVgY-uFwrD0",
        "outputId": "be00bc84-615a-49d6-bdc1-ad11c86274da"
      },
      "execution_count": 44,
      "outputs": [
        {
          "output_type": "stream",
          "name": "stdout",
          "text": [
            "78.5\n"
          ]
        }
      ]
    },
    {
      "cell_type": "code",
      "source": [
        "class Student:\n",
        "  def __init__(self,name,age):\n",
        "    self._name=name\n",
        "    self._age=age\n",
        "  @property\n",
        "  def name(self):\n",
        "    return self._name\n",
        "  @name.setter\n",
        "  def name(self,value):\n",
        "    if not value:\n",
        "      raise ValueError('name cannot be empty')\n",
        "    self._name=value\n",
        "  @property\n",
        "  def age(self):\n",
        "    return self._age\n",
        "  @age.setter\n",
        "  def age(self,value):\n",
        "    if not value:\n",
        "      raise ValueError('name cannot be empty')\n",
        "    self._age=value\n",
        "\n",
        "s=Student('xyz',20)\n",
        "\n",
        "\n",
        "s.age=26\n",
        "print(s.age)"
      ],
      "metadata": {
        "colab": {
          "base_uri": "https://localhost:8080/"
        },
        "id": "cu2j-dFW_v_b",
        "outputId": "b09cef8d-83b6-4b0c-b529-212f2671638c"
      },
      "execution_count": 79,
      "outputs": [
        {
          "output_type": "stream",
          "name": "stdout",
          "text": [
            "26\n"
          ]
        }
      ]
    },
    {
      "cell_type": "code",
      "source": [
        "class Truck:\n",
        "    def __init__(self, make, model):\n",
        "        self.make = make\n",
        "        self.model = model\n",
        "        self._fuel_level = 0  # Private attribute\n",
        "\n",
        "    @property\n",
        "    def fuel_level(self):\n",
        "        \"\"\"Getter for the fuel_level property.\"\"\"\n",
        "        return self._fuel_level\n",
        "\n",
        "    @fuel_level.setter\n",
        "    def fuel_level(self, value):\n",
        "        \"\"\"Setter for the fuel_level property, with validation.\"\"\"\n",
        "        if 0 <= value <= 100:\n",
        "            self._fuel_level = value\n",
        "        else:\n",
        "            print(f\"Warning: Invalid fuel level '{value}'. Fuel level must be between 0 and 100 and remains at {self._fuel_level}.\")  # Friendly message instead of raising an error\n",
        "\n",
        "\n",
        "truck1 = Truck(\"Volvo\", \"FH16\")\n",
        "print(f\"Initial fuel level: {truck1.fuel_level}\")\n",
        "\n",
        "truck1.fuel_level = 50\n",
        "print(f\"Current fuel level: {truck1.fuel_level}\")\n",
        "\n",
        "truck1.fuel_level = 120\n",
        "print(f\"Fuel level after invalid attempt: {truck1.fuel_level}\")\n",
        "\n",
        "truck1.fuel_level = 90\n",
        "print(f\"New fuel level: {truck1.fuel_level}\")"
      ],
      "metadata": {
        "colab": {
          "base_uri": "https://localhost:8080/"
        },
        "id": "9jmj0CKZVllk",
        "outputId": "6e226b82-de7b-407c-9e28-60db86878f50"
      },
      "execution_count": 115,
      "outputs": [
        {
          "output_type": "stream",
          "name": "stdout",
          "text": [
            "Initial fuel level: 0\n",
            "Current fuel level: 50\n",
            "Warning: Invalid fuel level '120'. Fuel level must be between 0 and 100 and remains at 50.\n",
            "Fuel level after invalid attempt: 50\n",
            "New fuel level: 90\n"
          ]
        }
      ]
    }
  ]
}