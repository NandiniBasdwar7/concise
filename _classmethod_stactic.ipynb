{
  "nbformat": 4,
  "nbformat_minor": 0,
  "metadata": {
    "colab": {
      "provenance": [],
      "authorship_tag": "ABX9TyMel03/TW2vKqZskKIvs2OD",
      "include_colab_link": true
    },
    "kernelspec": {
      "name": "python3",
      "display_name": "Python 3"
    },
    "language_info": {
      "name": "python"
    }
  },
  "cells": [
    {
      "cell_type": "markdown",
      "metadata": {
        "id": "view-in-github",
        "colab_type": "text"
      },
      "source": [
        "<a href=\"https://colab.research.google.com/github/NandiniBasdwar7/concise/blob/main/_classmethod_stactic.ipynb\" target=\"_parent\"><img src=\"https://colab.research.google.com/assets/colab-badge.svg\" alt=\"Open In Colab\"/></a>"
      ]
    },
    {
      "cell_type": "code",
      "execution_count": 6,
      "metadata": {
        "colab": {
          "base_uri": "https://localhost:8080/"
        },
        "id": "6Ic90pKIENx8",
        "outputId": "73f37cfd-ae1a-4ed6-dbbc-000ea578448b"
      },
      "outputs": [
        {
          "output_type": "stream",
          "name": "stdout",
          "text": [
            "XYZ School\n"
          ]
        }
      ],
      "source": [
        "#class method-this method works whole class ,not particulary in single object,its first argument itself present\"cls\".\n",
        "class Student:\n",
        "  school='ABC School'\n",
        "  def __init__(self,name):\n",
        "    self.name=name\n",
        "\n",
        "  @classmethod\n",
        "  def get_school(cls):\n",
        "    return cls.school\n",
        "\n",
        "Student.school='XYZ School'\n",
        "print(Student.get_school())"
      ]
    },
    {
      "cell_type": "code",
      "source": [
        "# static method-na class se,naa object se related hai.\n",
        "class MathUtils:\n",
        "  @staticmethod\n",
        "  def add(a,b):\n",
        "    return a+b\n",
        "\n",
        "v = MathUtils()\n",
        "v.add(3,4)"
      ],
      "metadata": {
        "colab": {
          "base_uri": "https://localhost:8080/"
        },
        "id": "gAfvOSv4GB09",
        "outputId": "b70f7597-8d96-4740-c1f5-84e0602b6e7b"
      },
      "execution_count": 71,
      "outputs": [
        {
          "output_type": "execute_result",
          "data": {
            "text/plain": [
              "7"
            ]
          },
          "metadata": {},
          "execution_count": 71
        }
      ]
    },
    {
      "cell_type": "code",
      "source": [
        "#__str__\n",
        "class BOOK:\n",
        "  def __init__(self,title,author):\n",
        "    self.title=title\n",
        "    self.author=author\n",
        "  def __str__(self): # READABLE STRING RETURN KARTA HAI\n",
        "    return f'{self.title} by {self.author}'\n",
        "\n",
        "B=BOOK('Python','NANDINI')\n",
        "print(B)"
      ],
      "metadata": {
        "colab": {
          "base_uri": "https://localhost:8080/"
        },
        "id": "HZLSP2m8Kw-T",
        "outputId": "77553d91-b315-4314-a522-4390183737dd"
      },
      "execution_count": 9,
      "outputs": [
        {
          "output_type": "stream",
          "name": "stdout",
          "text": [
            "Python by NANDINI\n"
          ]
        }
      ]
    },
    {
      "cell_type": "code",
      "source": [
        "#__repr__- it represent debugging ke liye technical string deta hai.\n",
        "class BOOK:\n",
        "  def  __init__(self,author):\n",
        "\n",
        "    self.author=author\n",
        "  def __repr__(self):\n",
        "      return f\"BOOK ('{self.author}')\"\n",
        "\n",
        "B=BOOK('karan')\n",
        "print(repr(B))\n"
      ],
      "metadata": {
        "colab": {
          "base_uri": "https://localhost:8080/"
        },
        "id": "IxxvBn5gLK7a",
        "outputId": "ebb0fb65-7114-4037-d2d8-f963d9d14c16"
      },
      "execution_count": 14,
      "outputs": [
        {
          "output_type": "stream",
          "name": "stdout",
          "text": [
            "BOOK ('karan')\n"
          ]
        }
      ]
    },
    {
      "cell_type": "code",
      "source": [
        "#__eq__2 objects ko compare karne k liye\n",
        "class person:\n",
        "  def __init__(self,name,age):\n",
        "    self.name=name\n",
        "    self.age=age\n",
        "  def __eq__(self,other):\n",
        "    return self.name==other.name and self.age==other.age\n",
        "\n",
        "\n",
        "s1=person('karan',21)\n",
        "s2=person('karan',24)\n",
        "print(s1==s2)\n"
      ],
      "metadata": {
        "colab": {
          "base_uri": "https://localhost:8080/"
        },
        "id": "HHS_bxvLPbYu",
        "outputId": "4bd85ea3-0f32-4023-be93-4cc13d6dfdf3"
      },
      "execution_count": 17,
      "outputs": [
        {
          "output_type": "stream",
          "name": "stdout",
          "text": [
            "False\n"
          ]
        }
      ]
    },
    {
      "cell_type": "code",
      "source": [
        "#__len__object kilength define karta hai\n",
        "class Team:\n",
        "  def __init__(self,members):\n",
        "    self.members=members\n",
        "  def __len__(self):\n",
        "    return len(self.members)\n",
        "\n",
        "team=Team('karan')\n",
        "print(len(team))\n"
      ],
      "metadata": {
        "colab": {
          "base_uri": "https://localhost:8080/"
        },
        "id": "cRTrJTnwQBEw",
        "outputId": "a93ba9de-d5ea-4a4c-d3c5-edd5086fe758"
      },
      "execution_count": 19,
      "outputs": [
        {
          "output_type": "stream",
          "name": "stdout",
          "text": [
            "5\n"
          ]
        }
      ]
    },
    {
      "cell_type": "code",
      "source": [
        "#Add a class variable to count total trucks.Add @classmethod to get the count.Implement __str__() for pretty print.\n",
        "class Truck:\n",
        "  total_trucks=0\n",
        "  def __init__(self,name,capacity):\n",
        "    self.name=name\n",
        "    self.capacity=capacity\n",
        "    Truck.total_trucks+=1\n",
        "  @classmethod\n",
        "  def get_total_trucks(cls):\n",
        "    return cls.total_trucks\n",
        "  def __str__(self):\n",
        "    return f\"Name: {self.name}, Capacity: {self.capacity}\"\n",
        "t1=Truck(\"Tata\",100)\n",
        "t2=Truck(\"Mahindra\",200)\n",
        "print(t1)\n",
        "print(t2)\n",
        "print(Truck.get_total_trucks())"
      ],
      "metadata": {
        "colab": {
          "base_uri": "https://localhost:8080/"
        },
        "id": "GQ5bpRsYdtFk",
        "outputId": "ce52efc7-f335-450b-83fc-fb2e96948673"
      },
      "execution_count": 24,
      "outputs": [
        {
          "output_type": "stream",
          "name": "stdout",
          "text": [
            "Name: Tata, Capacity: 100\n",
            "Name: Mahindra, Capacity: 200\n",
            "2\n"
          ]
        }
      ]
    },
    {
      "cell_type": "code",
      "source": [
        "#Create TruckFleet class, and define __len__ to return number of trucks.\n",
        "\n",
        "\n",
        "class TruckFleet:\n",
        "    def __init__(self, trucks):\n",
        "        self.trucks = trucks\n",
        "\n",
        "    def __len__(self):\n",
        "        return len(self.trucks)\n",
        "\n",
        "t1=TruckFleet([t1,t2])\n",
        "print(len(t1))"
      ],
      "metadata": {
        "colab": {
          "base_uri": "https://localhost:8080/"
        },
        "id": "PLF9ZxhYfbSI",
        "outputId": "5b40d1ae-4bbe-43f9-fbf0-95225ec6ab14"
      },
      "execution_count": 27,
      "outputs": [
        {
          "output_type": "stream",
          "name": "stdout",
          "text": [
            "2\n"
          ]
        }
      ]
    },
    {
      "cell_type": "code",
      "source": [
        "# Inheritance-attributes and method inherit by child.\n",
        "class Vehicle:\n",
        "  def start(self):\n",
        "    print(\"Vehicle started.\")\n",
        "\n",
        "class Car(Vehicle):\n",
        "  def start(self):\n",
        "    print(\"Car started.\")\n",
        "Car.start('Car')"
      ],
      "metadata": {
        "colab": {
          "base_uri": "https://localhost:8080/"
        },
        "id": "xl75qRA4gzPg",
        "outputId": "87ff65ca-de3c-4e4b-b97b-0b35ad29b3b7"
      },
      "execution_count": 39,
      "outputs": [
        {
          "output_type": "stream",
          "name": "stdout",
          "text": [
            "Car started.\n"
          ]
        }
      ]
    },
    {
      "cell_type": "code",
      "source": [
        "# and Method Overriding-method is redefining\n",
        "class Vehicle:\n",
        "  def start(self):\n",
        "    print('Vehicle started')\n",
        "class Car(Vehicle):\n",
        "  def start(self):\n",
        "    print('car started with key')\n",
        "\n",
        "Car.start('Car')\n",
        "\n",
        "\n"
      ],
      "metadata": {
        "colab": {
          "base_uri": "https://localhost:8080/"
        },
        "id": "i_NUz5lkknCz",
        "outputId": "444e1d5a-d3e0-47bf-f798-79fd2dfe57cf"
      },
      "execution_count": 42,
      "outputs": [
        {
          "output_type": "stream",
          "name": "stdout",
          "text": [
            "car started with key\n"
          ]
        }
      ]
    },
    {
      "cell_type": "code",
      "source": [
        "#super()-parent class ke method ko child class k ander call karne k liye use krte hai.\n",
        "class Vehicle:\n",
        "  def start(self):\n",
        "    print('Vehicle started')\n",
        "class Car(Vehicle):\n",
        "  def start(self):\n",
        "    super().start() # parent class start ka method\n",
        "    print('car started with red button')\n",
        "\n",
        "c=Car()\n",
        "c.start()"
      ],
      "metadata": {
        "colab": {
          "base_uri": "https://localhost:8080/"
        },
        "id": "G7qtl-NwpVXL",
        "outputId": "f7cc6410-b727-42cf-86c8-ef37974415b9"
      },
      "execution_count": 45,
      "outputs": [
        {
          "output_type": "stream",
          "name": "stdout",
          "text": [
            "Vehicle started\n",
            "car started with red button\n"
          ]
        }
      ]
    },
    {
      "cell_type": "code",
      "source": [
        "#Create a base class Vehicle, with common attributes like plate_no, fuel_type.\n",
        "#Inherit Truck and Van from Vehicle\n",
        "#Override the is_overloaded() method for each type.\n",
        "\n",
        "class Vehicle:\n",
        "    def __init__(self, plate_no, fuel_type):\n",
        "        self.plate_no = plate_no\n",
        "        self.fuel_type = fuel_type\n",
        "\n",
        "    def is_overloaded(self):\n",
        "        return False\n",
        "\n",
        "    def __str__(self):\n",
        "        return f\"Plate No: {self.plate_no}, Fuel Type: {self.fuel_type}\"\n",
        "\n",
        "class Truck(Vehicle):\n",
        "    def is_overloaded(self):\n",
        "        return True\n",
        "\n",
        "class Van(Vehicle):\n",
        "    def is_overloaded(self):\n",
        "        return False\n",
        "\n",
        "    def __str__(self):\n",
        "        return f\"Plate No: {self.plate_no}, Fuel Type: {self.fuel_type}\"\n",
        "\n",
        "vehicle=Vehicle(\"ABC123\",\"Petrol\")\n",
        "truck=Truck(\"ABC123\",\"Petrol\")\n",
        "van=Van(\"XYZ789\",\"Diesel\")\n",
        "print(vehicle)\n",
        "print(Truck.is_overloaded('Truck'))\n",
        "print(truck)\n",
        "print(van)\n",
        "print(Van.is_overloaded('Van'))\n"
      ],
      "metadata": {
        "colab": {
          "base_uri": "https://localhost:8080/"
        },
        "id": "UnYrMvzlp9ub",
        "outputId": "06cea029-22bf-4f4e-98be-0075467f1d1d"
      },
      "execution_count": 59,
      "outputs": [
        {
          "output_type": "stream",
          "name": "stdout",
          "text": [
            "Plate No: ABC123, Fuel Type: Petrol\n",
            "True\n",
            "Plate No: ABC123, Fuel Type: Petrol\n",
            "Plate No: XYZ789, Fuel Type: Diesel\n",
            "False\n"
          ]
        }
      ]
    },
    {
      "cell_type": "code",
      "source": [
        "#polymorphism-Polymorphism means \"many forms\".\n",
        "#it allows objects of   different classes to respond the same method name.\n",
        "#achieved overriding\n",
        "class Bird:\n",
        "  def fly(self):\n",
        "    print(\"birds can fly\")\n",
        "class Airplane:\n",
        "  def fly(self):\n",
        "    print(\"airplane can fly\")\n",
        "bird=Bird()\n",
        "airplane=Airplane()\n",
        "bird.fly()\n",
        "airplane.fly()\n"
      ],
      "metadata": {
        "colab": {
          "base_uri": "https://localhost:8080/"
        },
        "id": "LiXWalodyYzk",
        "outputId": "9320da3a-7a48-4e3f-ac5f-378f49c92531"
      },
      "execution_count": 60,
      "outputs": [
        {
          "output_type": "stream",
          "name": "stdout",
          "text": [
            "birds can fly\n",
            "airplane can fly\n"
          ]
        }
      ]
    },
    {
      "cell_type": "code",
      "source": [
        "#abstraction-hide unncessery things it is used as a security purpose\n",
        "from abc import ABC,abstractmethod\n",
        "class Vehicle(ABC):\n",
        "  @abstractmethod\n",
        "  def start(self):\n",
        "    pass\n",
        "class Car(Vehicle):\n",
        "  def start(self):\n",
        "    print(\"car started with key\")\n",
        "class Bike(Vehicle):\n",
        "  def start(self):\n",
        "    print(\"bike engine started with button\")\n",
        "v=Car()\n",
        "v.start()\n",
        "v=Bike()\n",
        "v.start()\n",
        "\n"
      ],
      "metadata": {
        "colab": {
          "base_uri": "https://localhost:8080/"
        },
        "id": "CPXxQYlLPth_",
        "outputId": "f69c3291-7b69-447c-d195-b0f7ada9a1f8"
      },
      "execution_count": 67,
      "outputs": [
        {
          "output_type": "stream",
          "name": "stdout",
          "text": [
            "car started with key\n",
            "bike engine started with button\n"
          ]
        }
      ]
    },
    {
      "cell_type": "code",
      "source": [],
      "metadata": {
        "id": "mvD6DHU3Suwa"
      },
      "execution_count": null,
      "outputs": []
    }
  ]
}