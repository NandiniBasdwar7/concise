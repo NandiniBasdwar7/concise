{
  "nbformat": 4,
  "nbformat_minor": 0,
  "metadata": {
    "colab": {
      "provenance": [],
      "authorship_tag": "ABX9TyMwzn4YmojmhUFT7tJIVC0I",
      "include_colab_link": true
    },
    "kernelspec": {
      "name": "python3",
      "display_name": "Python 3"
    },
    "language_info": {
      "name": "python"
    }
  },
  "cells": [
    {
      "cell_type": "markdown",
      "metadata": {
        "id": "view-in-github",
        "colab_type": "text"
      },
      "source": [
        "<a href=\"https://colab.research.google.com/github/NandiniBasdwar7/concise/blob/main/_file_handling_error_handling.ipynb\" target=\"_parent\"><img src=\"https://colab.research.google.com/assets/colab-badge.svg\" alt=\"Open In Colab\"/></a>"
      ]
    },
    {
      "cell_type": "markdown",
      "source": [],
      "metadata": {
        "id": "A9xGAm6NRxBS"
      }
    },
    {
      "cell_type": "code",
      "execution_count": null,
      "metadata": {
        "colab": {
          "base_uri": "https://localhost:8080/"
        },
        "id": "CzytZEzeRWGM",
        "outputId": "0e3cd8e8-e0fa-41d3-cd3f-211ccad5958c"
      },
      "outputs": [
        {
          "output_type": "stream",
          "name": "stdout",
          "text": [
            "Lorem ipsum dolor sit amet, consectetur adipiscing elit. Vivamus condimentum sagittis lacus, laoreet luctus ligula laoreet ut. Vestibulum ullamcorper accumsan velit vel vehicula. Proin tempor lacus arcu. Nunc at elit condimentum, semper nisi et, condimentum mi. In venenatis blandit nibh at sollicitudin. Vestibulum dapibus mauris at orci maximus pellentesque. Nullam id elementum ipsum. Suspendisse cursus lobortis viverra. Proin et erat at mauris tincidunt porttitor vitae ac dui.\n",
            "\n",
            "Donec vulputate lorem tortor, nec fermentum nibh bibendum vel. Lorem ipsum dolor sit amet, consectetur adipiscing elit. Praesent dictum luctus massa, non euismod lacus. Pellentesque condimentum dolor est, ut dapibus lectus luctus ac. Ut sagittis commodo arcu. Integer nisi nulla, facilisis sit amet nulla quis, eleifend suscipit purus. Class aptent taciti sociosqu ad litora torquent per conubia nostra, per inceptos himenaeos. Aliquam euismod ultrices lorem, sit amet imperdiet est tincidunt vel. Phasellus dictum justo sit amet ligula varius aliquet auctor et metus. Fusce vitae tortor et nisi pulvinar vestibulum eget in risus. Donec ante ex, placerat a lorem eget, ultricies bibendum purus. Nam sit amet neque non ante laoreet rutrum. Nullam aliquet commodo urna, sed ullamcorper odio feugiat id. Mauris nisi sapien, porttitor in condimentum nec, venenatis eu urna. Pellentesque feugiat diam est, at rhoncus orci porttitor non.\n",
            "\n",
            "Nulla luctus sem sit amet nisi consequat, id ornare ipsum dignissim. Sed elementum elit nibh, eu condimentum orci viverra quis. Aenean suscipit vitae felis non suscipit. Suspendisse pharetra turpis non eros semper dictum. Etiam tincidunt venenatis venenatis. Praesent eget gravida lorem, ut congue diam. Etiam facilisis elit at porttitor egestas. Praesent consequat, velit non vulputate convallis, ligula diam sagittis urna, in venenatis nisi justo ut mauris. Vestibulum posuere sollicitudin mi, et vulputate nisl fringilla non. Nulla ornare pretium velit a euismod. Nunc sagittis venenatis vestibulum. Nunc sodales libero a est ornare ultricies. Sed sed leo sed orci pellentesque ultrices. Mauris sollicitudin, sem quis placerat ornare, velit arcu convallis ligula, pretium finibus nisl sapien vel sem. Vivamus sit amet tortor id lorem consequat hendrerit. Nullam at dui risus.\n",
            "\n",
            "Vestibulum ante ipsum primis in faucibus orci luctus et ultrices posuere cubilia Curae; Lorem ipsum dolor sit amet, consectetur adipiscing elit. Sed feugiat semper velit consequat facilisis. Etiam facilisis justo non iaculis dictum. Fusce turpis neque, pharetra ut odio eu, hendrerit rhoncus lacus. Nunc orci felis, imperdiet vel interdum quis, porta eu ipsum. Pellentesque dictum sem lacinia, auctor dui in, malesuada nunc. Maecenas sit amet mollis eros. Proin fringilla viverra ligula, sollicitudin viverra ante sollicitudin congue. Donec mollis felis eu libero malesuada, et lacinia risus interdum.\n",
            "\n",
            "Etiam vitae accumsan augue. Ut urna orci, malesuada ut nisi a, condimentum gravida magna. Nulla bibendum ex in vulputate sagittis. Nulla facilisi. Nullam faucibus et metus ac consequat. Quisque tempor eros velit, id mattis nibh aliquet a. Aenean tempor elit ut finibus auctor. Sed at imperdiet mauris. Vestibulum pharetra non lacus sed pulvinar. Sed pellentesque magna a eros volutpat ullamcorper. In hac habitasse platea dictumst. Donec ipsum mi, feugiat in eros sed, varius lacinia turpis. Donec vulputate tincidunt dui ac laoreet. Sed in eros dui. Pellentesque placerat tristique ligula eu finibus. Proin nec faucibus felis, eu commodo ipsum.\n",
            "\n",
            "Integer eu hendrerit diam, sed consectetur nunc. Aliquam a sem vitae leo fermentum faucibus quis at sem. Etiam blandit, quam quis fermentum varius, ante urna ultricies lectus, vel pellentesque ligula arcu nec elit. Donec placerat ante in enim scelerisque pretium. Donec et rhoncus erat. Aenean tempor nisi vitae augue tincidunt luctus. Nam condimentum dictum ante, et laoreet neque pellentesque id. Curabitur consectetur cursus neque aliquam porta. Ut interdum nunc nec nibh vestibulum, in sagittis metus facilisis. Pellentesque feugiat condimentum metus. Etiam venenatis quam at ante rhoncus vestibulum. Maecenas suscipit congue pellentesque. Vestibulum suscipit scelerisque fermentum. Nulla iaculis risus ac vulputate porttitor.\n",
            "\n",
            "Mauris nec metus vel dolor blandit faucibus et vel magna. Ut tincidunt ipsum non nunc dapibus, sed blandit mi condimentum. Quisque pharetra interdum quam nec feugiat. Sed pellentesque nulla et turpis blandit interdum. Curabitur at metus vitae augue elementum viverra. Sed mattis lorem non enim fermentum finibus. Sed at dui in magna dignissim accumsan. Proin tincidunt ultricies cursus. Maecenas tincidunt magna at urna faucibus lacinia.\n",
            "\n",
            "Quisque venenatis justo sit amet tortor condimentum, nec tincidunt tellus viverra. Morbi risus ipsum, consequat convallis malesuada non, fermentum non velit. Nulla facilisis orci eget ligula mattis fermentum. Aliquam vel velit ultricies, sollicitudin nibh eu, congue velit. Donec nulla lorem, euismod id cursus at, sollicitudin et arcu. Proin vitae tincidunt ipsum. Vivamus elementum eleifend justo, placerat interdum nulla rutrum id.\n",
            "\n",
            "Phasellus fringilla luctus magna, a finibus justo dapibus a. Nam risus felis, rhoncus eget diam sit amet, congue facilisis nibh. Interdum et malesuada fames ac ante ipsum primis in faucibus. Praesent consequat euismod diam, eget volutpat magna convallis at. Mauris placerat pellentesque imperdiet. Nulla porta scelerisque enim, et scelerisque neque bibendum in. Proin eget turpis nisi. Suspendisse ut est a erat egestas eleifend at euismod arcu. Donec aliquet, nisi sed faucibus condimentum, nisi metus dictum eros, nec dignissim justo odio id nulla. Pellentesque habitant morbi tristique senectus et netus et malesuada fames ac turpis egestas. Maecenas sollicitudin, justo id elementum eleifend, justo neque aliquet nibh, finibus malesuada metus erat eget neque. Suspendisse nec auctor orci. Aenean et vestibulum nulla. Nullam hendrerit augue tristique, commodo metus id, sodales lorem. Etiam feugiat dui est, vitae auctor risus convallis non.\n",
            "\n",
            "Maecenas turpis enim, consectetur eget lectus eu, hendrerit posuere lacus. Praesent efficitur, felis eget dapibus consectetur, nisi massa dignissim enim, nec semper dolor est eu urna. Nullam ut sodales lorem. Aliquam dapibus faucibus diam. Vestibulum vel magna et dolor gravida imperdiet ut sit amet sem. Lorem ipsum dolor sit amet, consectetur adipiscing elit. Curabitur elementum metus tincidunt nulla euismod ultricies. Duis elementum nec neque in porttitor. Nulla sagittis lorem elit, et consectetur ante laoreet eu. Maecenas nulla tellus, scelerisque ac erat sed, fermentum dapibus metus. Donec tincidunt fermentum molestie.\n",
            "\n",
            "Sed consequat mi at maximus faucibus. Pellentesque aliquet tincidunt sapien vel auctor. Pellentesque habitant morbi tristique senectus et netus et malesuada fames ac turpis egestas. Praesent accumsan nunc eget leo aliquam, facilisis hendrerit turpis egestas. Morbi in ultricies mauris, a eleifend turpis. Quisque fringilla massa iaculis risus ultrices, sit amet tincidunt dui varius. Quisque maximus porta tristique. Proin tincidunt, turpis ut tempor pretium, lectus ipsum ullamcorper leo, ac tincidunt felis dui non leo. Aenean porta augue ligula, non consequat ipsum aliquet et. Suspendisse ut suscipit ex. Pellentesque vitae lacinia arcu. Curabitur eget tincidunt nulla, non bibendum metus. Nullam mi ipsum, eleifend vitae tortor pulvinar, facilisis sollicitudin ipsum.\n",
            "\n",
            "Vestibulum molestie risus lorem, at feugiat lorem congue sed. Phasellus ullamcorper laoreet enim, nec aliquam turpis scelerisque et. Etiam dictum metus in elit aliquam dapibus. Vivamus vel lectus velit. Nam sed purus luctus, commodo dui quis, malesuada dui. Nulla porttitor aliquet elit sit amet viverra. Proin tempor nulla urna, non aliquet metus maximus quis. Aliquam ac lectus nec mi aliquam sagittis. Quisque venenatis quam eget nisl tempor, egestas rutrum eros eleifend. Nullam venenatis commodo velit, non tempor mauris fermentum ut. In a metus quis erat cursus sagittis. Donec congue nisl in viverra egestas.\n",
            "\n",
            "Vestibulum facilisis ligula magna, eu ornare lectus varius et. Mauris facilisis faucibus quam, quis mollis eros convallis non. Interdum et malesuada fames ac ante ipsum primis in faucibus. Praesent sit amet rutrum erat. Suspendisse potenti. Donec lorem mi, sagittis a fringilla sit amet, sagittis bibendum mauris. In in diam et lorem rutrum eleifend a et felis. Sed ac magna quis enim faucibus dictum. Suspendisse blandit enim eu ex laoreet gravida.\n",
            "\n",
            "Suspendisse sed semper felis. Etiam mattis magna mi, suscipit ullamcorper tellus euismod sed. Aenean congue scelerisque ligula id sodales. Class aptent taciti sociosqu ad litora torquent per conubia nostra, per inceptos himenaeos. Nunc sem lectus, gravida ac dui non, pharetra posuere leo. Maecenas lacus libero, facilisis et elit vitae, commodo facilisis sem. Vivamus id nisl nulla. Integer at maximus dui. Ut a tincidunt lorem. Vivamus vitae ligula vel lacus cursus condimentum. Phasellus quis mauris lobortis, finibus lorem in, vulputate ex. Lorem ipsum dolor sit amet, consectetur adipiscing elit. Sed faucibus aliquam metus, quis varius elit porttitor id. Vivamus dignissim sollicitudin scelerisque. Morbi tincidunt, dolor quis vehicula consequat, dui diam condimentum nunc, vitae scelerisque odio libero nec ligula. Vestibulum ante ipsum primis in faucibus orci luctus et ultrices posuere cubilia Curae;\n",
            "\n"
          ]
        }
      ],
      "source": [
        "# Day 3: File Handling + Error Handling\n",
        "Reading/writing .txt, .csv, .json -Python offers built-in Modules for reading and writing data in .txt, .csv, and .json file formats.\n",
        "\n",
        "\n",
        "#1. Reading and Writing .txt files:\n",
        "#The open() function is used to interact with text files. It takes the file path and the mode as arguments ('r' for read, 'w' for write, 'a' for append).\n",
        "#Use file.read() to read the entire content, file.readline() to read a single line, or file.readlines() to read all lines into a list.\n",
        "#Use file.write() to write strings to the file, file.write recommended as a 'with' statement.\n",
        "# Reading a text file\n",
        "with open(\"/content/SampleTextFile_10kb.txt\", \"r\") as file:\n",
        "    content = file.read()\n",
        "    print(content)"
      ]
    },
    {
      "cell_type": "code",
      "source": [
        "#1. Reading and Writing .txt files:\n",
        "#The open() function is used to interact with text files. It takes the file path and the mode as arguments ('r' for read, 'w' for write, 'a' for append).\n",
        "#Use file.read() to read the entire content, file.readline() to read a single line, or file.readlines() to read all lines into a list.\n",
        "#Use file.write() to write strings to the file.\n",
        "with open(\"/content/output.txt\", \"w\") as file:\n",
        "    file.write(\"This is a new line.\\n\")\n",
        "    file.write(\"This is another line.\")\n",
        "    file.write(\"This is third line.\")"
      ],
      "metadata": {
        "id": "PX19XAfaR2E4"
      },
      "execution_count": null,
      "outputs": []
    },
    {
      "cell_type": "code",
      "source": [
        "#for append mode\n",
        "with open(\"/content/output.txt\", \"a\") as file:\n",
        "    file.write(\"This is a append line.\\n\")\n",
        "    file.write(\"This is another append line.\\n\")\n",
        "    file.write(\"This is third append line.\")"
      ],
      "metadata": {
        "id": "IUr0GSQ3TW9_"
      },
      "execution_count": null,
      "outputs": []
    },
    {
      "cell_type": "code",
      "source": [
        "#2. Reading and Writing .csv files:-The csv module provides specialized functions for handling CSV data.\n",
        "#csv.reader is used to read CSV files, returning an iterator of rows, where each row is a list of strings.\n",
        "#csv.writer is used to write to CSV files, with writerow() for single rows and writerows() for multiple rows.\n",
        "import csv\n",
        "\n",
        "# Reading a CSV file\n",
        "with open(\"/content/agreement.csv\", \"r\", newline=\"\") as file:\n",
        "    reader = csv.reader(file)\n",
        "    for row in reader:\n",
        "        print(row)\n",
        "\n",
        "# Writing to a CSV file\n",
        "with open(\"/content/output.csv\", \"w\", newline=\"\") as file:\n",
        "    writer = csv.writer(file)\n",
        "    writer.writerow([\"Name\", \"Age\"])\n",
        "    writer.writerow([\"Alice\", 30])\n",
        "    writer.writerow([\"Bob\", 25])"
      ],
      "metadata": {
        "colab": {
          "base_uri": "https://localhost:8080/"
        },
        "id": "PigW8VATUzwE",
        "outputId": "ac8a1dcc-75ea-4767-9ff1-269493debd87"
      },
      "execution_count": null,
      "outputs": [
        {
          "output_type": "stream",
          "name": "stdout",
          "text": [
            "['Agreement']\n",
            "['Strongly Agree']\n",
            "['Agree']\n",
            "['Neutral']\n",
            "['Disagree']\n",
            "['Strongly Disagree']\n"
          ]
        }
      ]
    },
    {
      "cell_type": "code",
      "source": [
        "#3. Reading and Writing .json files:\n",
        "#The json module is used for handling JSON data, converting between JSON strings/files and Python dictionaries/lists.\n",
        "#json.load() reads JSON data from a file object.\n",
        "#json.loads() reads JSON data from a string.\n",
        "#json.dump() writes Python data structures to a file object in JSON format.\n",
        "#json.dumps() converts Python data structures to a JSON formatted string.\n",
        "import json\n",
        "\n",
        "# Reading a JSON file\n",
        "with open(\"/content/sample1.json\", \"r\") as file:\n",
        "    data = json.load(file)\n",
        "    print(data)\n",
        "\n",
        "# Writing to a JSON file\n",
        "python_dict = {\"name\": \"Charlie\", \"city\": \"New York\"}\n",
        "with open(\"/content/output.json\", \"w\") as file:\n",
        "    json.dump(python_dict, file, indent=4) # indent for readability"
      ],
      "metadata": {
        "colab": {
          "base_uri": "https://localhost:8080/"
        },
        "id": "CjdSQv6TZCRx",
        "outputId": "53399623-bc4f-4de0-c1b6-27138ca0ef5e"
      },
      "execution_count": null,
      "outputs": [
        {
          "output_type": "stream",
          "name": "stdout",
          "text": [
            "{'fruit': 'Apple', 'size': 'Large', 'color': 'Red'}\n"
          ]
        }
      ]
    },
    {
      "cell_type": "code",
      "source": [
        "#Python Try Except\n",
        "#The try block lets you test a block of code for errors.\n",
        "\n",
        "#The except block lets you handle the error.\n",
        "\n",
        "#The else block lets you execute code when there is no error.\n",
        "\n",
        "#The finally block lets you execute code, regardless of the result of the try- and except blocks.\n",
        "try:\n",
        "    # Code that might raise an exception\n",
        "    result = 10 / 0  # This will raise a ZeroDivisionError\n",
        "except ZeroDivisionError:\n",
        "    # Code to handle ZeroDivisionError\n",
        "    print(\"Error: Cannot divide by zero!\")\n",
        "except ValueError:\n",
        "    # Code to handle ValueError\n",
        "    print(\"Error: Invalid value!\")\n",
        "except Exception as e:\n",
        "    # Code to handle any other exception\n",
        "    print(f\"An unexpected error occurred: {e}\")\n",
        "else:\n",
        "    # Optional: Code to execute if no exception occurs in the try block\n",
        "    print(\"No exception occurred.\")\n",
        "finally:\n",
        "    # Optional: Code that always executes, regardless of whether an exception occurred or not\n",
        "    print(\"This code always runs.\")"
      ],
      "metadata": {
        "colab": {
          "base_uri": "https://localhost:8080/"
        },
        "id": "wVi77xlJfk9X",
        "outputId": "2f61965b-e988-47a3-c398-00672235c592"
      },
      "execution_count": null,
      "outputs": [
        {
          "output_type": "stream",
          "name": "stdout",
          "text": [
            "Error: Cannot divide by zero!\n",
            "This code always runs.\n"
          ]
        }
      ]
    },
    {
      "cell_type": "code",
      "source": [
        "#1. The os module:\n",
        "#The os module provides a way of using operating system dependent functionality, such as reading or writing to a file system.\n",
        "#It is a more low-level, functional approach where paths are typically represented and manipulated as strings.\n",
        "#The os.path submodule within os offers functions for common path manipulations, such as joining path components (os.path.join()), getting the base name or directory name (os.path.basename(), os.path.dirname()), checking existence (os.path.exists()), and determining file types (os.path.isfile(), os.path.isdir()).\n",
        "import os\n",
        "\n",
        "# Joining paths\n",
        "path = os.path.join(\"my_directory\", \"my_file.txt\")\n",
        "print(f\"Joined path: {path}\")\n",
        "\n",
        "# Checking if a path exists\n",
        "if os.path.exists(path):\n",
        "    print(f\"{path} exists.\")\n",
        "else:\n",
        "    print(f\"{path} does not exist.\")"
      ],
      "metadata": {
        "colab": {
          "base_uri": "https://localhost:8080/"
        },
        "id": "sxbKeCcZCH-d",
        "outputId": "640e3d8f-2f65-402b-f6a1-10e96300c71a"
      },
      "execution_count": null,
      "outputs": [
        {
          "output_type": "stream",
          "name": "stdout",
          "text": [
            "Joined path: my_directory/my_file.txt\n",
            "my_directory/my_file.txt does not exist.\n"
          ]
        }
      ]
    },
    {
      "cell_type": "code",
      "source": [
        "#Introduced in Python 3.4, pathlib offers an object-oriented approach to working with file system paths.\n",
        "#It represents paths as Path objects, which have methods and properties for performing various operations,\n",
        "from pathlib import Path\n",
        "\n",
        "# Creating a Path object\n",
        "path = Path(\"my_directory\")\n",
        "\n",
        "# Checking if a path exists\n",
        "if path.exists():\n",
        "    print(f\"{path} exists.\")\n",
        "else:\n",
        "    print(f\"{path} does not exist.\")\n",
        "\n",
        "parent_dir=path.parent\n",
        "print(parent_dir)"
      ],
      "metadata": {
        "colab": {
          "base_uri": "https://localhost:8080/"
        },
        "id": "0DhsNymCKKzR",
        "outputId": "ea3f5d75-d756-4791-95ca-2c88d03818cc"
      },
      "execution_count": null,
      "outputs": [
        {
          "output_type": "stream",
          "name": "stdout",
          "text": [
            "Path object: my_directory/my_file.txt\n",
            "my_directory/my_file.txt does not exist.\n",
            "Parent directory: my_directory\n"
          ]
        }
      ]
    },
    {
      "cell_type": "code",
      "source": [
        "#🧠 Exercise: Process a log file and summarize entries\n",
        "#🔹 Exercise 5:\n",
        "#Read a log file (text).\n",
        "#Count total errors (\"ERROR\") and warnings (\"WARNING\").\n",
        "#Save the summary in JSON format.\n",
        "\n",
        "\n",
        "\n",
        "with open(\"/content/log.txt\", \"w\") as file:\n",
        "    file.write(\"\"\"ERROR: Crash\n",
        "    WARNING: Low battery\n",
        "    ERROR: Timeout\n",
        "    WARNING: Overheat\n",
        "    \"\"\")\n",
        "\n",
        "d=open('/content/log.txt').read()\n",
        "print('error:',\n",
        "d.count('error'))\n",
        "print('warning:',\n",
        "d.count('warning'))\n"
      ],
      "metadata": {
        "colab": {
          "base_uri": "https://localhost:8080/"
        },
        "id": "TC4ICirxKcwm",
        "outputId": "07a3b60e-9dc5-4403-8da6-93cb03767e73"
      },
      "execution_count": null,
      "outputs": [
        {
          "output_type": "stream",
          "name": "stdout",
          "text": [
            "error: 0\n",
            "warning: 0\n"
          ]
        }
      ]
    },
    {
      "cell_type": "code",
      "source": [
        "#🔹 Exercise 6:\n",
        "# Try reading a non-existent file and catch the error gracefully.\n",
        "try:\n",
        "  d=open('log1.txt').read()\n",
        "  print('error:',\n",
        "  d.count('error'))\n",
        "  print('warning:',\n",
        "  d.count('warning'))\n",
        "except FileNotFoundError:\n",
        "  print('file not found')"
      ],
      "metadata": {
        "colab": {
          "base_uri": "https://localhost:8080/"
        },
        "id": "OVIK5kZ0PpcD",
        "outputId": "819a34c8-c784-4ba8-9be4-6aec55068b99"
      },
      "execution_count": null,
      "outputs": [
        {
          "output_type": "stream",
          "name": "stdout",
          "text": [
            "file not found\n"
          ]
        }
      ]
    },
    {
      "cell_type": "code",
      "source": [],
      "metadata": {
        "id": "sHdnDrD6Qbxq"
      },
      "execution_count": null,
      "outputs": []
    }
  ]
}