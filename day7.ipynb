{
  "nbformat": 4,
  "nbformat_minor": 0,
  "metadata": {
    "colab": {
      "provenance": [],
      "authorship_tag": "ABX9TyMx81nSYKaK6NFLpMJzERVG",
      "include_colab_link": true
    },
    "kernelspec": {
      "name": "python3",
      "display_name": "Python 3"
    },
    "language_info": {
      "name": "python"
    }
  },
  "cells": [
    {
      "cell_type": "markdown",
      "metadata": {
        "id": "view-in-github",
        "colab_type": "text"
      },
      "source": [
        "<a href=\"https://colab.research.google.com/github/NandiniBasdwar7/concise/blob/main/day7.ipynb\" target=\"_parent\"><img src=\"https://colab.research.google.com/assets/colab-badge.svg\" alt=\"Open In Colab\"/></a>"
      ]
    },
    {
      "cell_type": "code",
      "execution_count": null,
      "metadata": {
        "colab": {
          "base_uri": "https://localhost:8080/"
        },
        "id": "XELo6PaykOLp",
        "outputId": "16577596-d0f0-40fd-cdc5-70b96f123131"
      },
      "outputs": [
        {
          "output_type": "stream",
          "name": "stdout",
          "text": [
            "[[ 26.  40. 450.]\n",
            " [ 32.  45. 390.]\n",
            " [ 31.  41. 428.]\n",
            " [ 28.  36. 471.]\n",
            " [ 36.  43. 398.]\n",
            " [ 37.  44. 400.]\n",
            " [ 29.  39. 415.]\n",
            " [ 15.  48. 444.]]\n"
          ]
        }
      ],
      "source": [
        " #Simulate a basic ETL pipeline for IoT data using NumPy\n",
        "import numpy as np\n",
        "df=np.genfromtxt('/content/iotData.csv',delimiter=',',skip_header=1)\n",
        "print(df)"
      ]
    },
    {
      "cell_type": "code",
      "source": [
        "a1 = np.array([[31,np.nan, np.nan]])"
      ],
      "metadata": {
        "id": "W9A8RcnoE5qh"
      },
      "execution_count": null,
      "outputs": []
    },
    {
      "cell_type": "code",
      "source": [
        "np.concatenate((df,a1))"
      ],
      "metadata": {
        "colab": {
          "base_uri": "https://localhost:8080/"
        },
        "id": "tgH1mZxIFVi4",
        "outputId": "471a0c72-5c78-475f-b6c6-24769b0a3c10"
      },
      "execution_count": null,
      "outputs": [
        {
          "output_type": "execute_result",
          "data": {
            "text/plain": [
              "array([[ 26.,  40., 450.],\n",
              "       [ 32.,  45., 390.],\n",
              "       [ 31.,  41., 428.],\n",
              "       [ 28.,  36., 471.],\n",
              "       [ 36.,  43., 398.],\n",
              "       [ 37.,  44., 400.],\n",
              "       [ 29.,  39., 415.],\n",
              "       [ 15.,  48., 444.],\n",
              "       [ 31.,  nan,  nan]])"
            ]
          },
          "metadata": {},
          "execution_count": 44
        }
      ]
    },
    {
      "cell_type": "code",
      "source": [
        "print(df.shape)"
      ],
      "metadata": {
        "colab": {
          "base_uri": "https://localhost:8080/"
        },
        "id": "Km3U-YrBnjJf",
        "outputId": "effca0f1-5922-45b4-8f87-82737c8df932"
      },
      "execution_count": null,
      "outputs": [
        {
          "output_type": "stream",
          "name": "stdout",
          "text": [
            "(8, 3)\n"
          ]
        }
      ]
    },
    {
      "cell_type": "code",
      "source": [
        "print(np.isnan(df))"
      ],
      "metadata": {
        "colab": {
          "base_uri": "https://localhost:8080/"
        },
        "id": "MkMZywELnuWP",
        "outputId": "49d7402f-8be9-405b-aa1b-4dfc02856ad6"
      },
      "execution_count": null,
      "outputs": [
        {
          "output_type": "stream",
          "name": "stdout",
          "text": [
            "[[False False False]\n",
            " [False False False]\n",
            " [False False False]\n",
            " [False False False]\n",
            " [False False False]\n",
            " [False False False]\n",
            " [False False False]\n",
            " [False False False]]\n"
          ]
        }
      ]
    },
    {
      "cell_type": "code",
      "source": [
        "print(np.sum(np.isnan(df)))"
      ],
      "metadata": {
        "colab": {
          "base_uri": "https://localhost:8080/"
        },
        "id": "f74dsW15n34F",
        "outputId": "8cd1e29e-fdde-44af-dfd6-539f6ced5065"
      },
      "execution_count": null,
      "outputs": [
        {
          "output_type": "stream",
          "name": "stdout",
          "text": [
            "0\n"
          ]
        }
      ]
    },
    {
      "cell_type": "code",
      "source": [
        "median_value = np.nanmedian(df)\n",
        "print(median_value)"
      ],
      "metadata": {
        "colab": {
          "base_uri": "https://localhost:8080/"
        },
        "id": "XJo7kbfRra5x",
        "outputId": "31e9b177-a894-4d93-80e1-6f20b1c6786f"
      },
      "execution_count": null,
      "outputs": [
        {
          "output_type": "stream",
          "name": "stdout",
          "text": [
            "42.0\n"
          ]
        }
      ]
    },
    {
      "cell_type": "code",
      "source": [
        "df[np.isnan(df)] = median_value\n",
        "print(\"\\nArray after replacing NaNs with median:\")\n",
        "print(df)"
      ],
      "metadata": {
        "colab": {
          "base_uri": "https://localhost:8080/"
        },
        "id": "D3O_L04-r2bh",
        "outputId": "a103906c-f1e2-4be4-a993-5cdad54bdd02"
      },
      "execution_count": null,
      "outputs": [
        {
          "output_type": "stream",
          "name": "stdout",
          "text": [
            "\n",
            "Array after replacing NaNs with median:\n",
            "[[ 26.  40. 450.]\n",
            " [ 32.  45. 390.]\n",
            " [ 31.  41. 428.]\n",
            " [ 28.  36. 471.]\n",
            " [ 36.  43. 398.]\n",
            " [ 37.  44. 400.]\n",
            " [ 29.  39. 415.]\n",
            " [ 15.  48. 444.]]\n"
          ]
        }
      ]
    },
    {
      "cell_type": "code",
      "source": [
        "max_per_column = np.max(df, axis=0)\n",
        "min_per_column = np.min(df, axis=0)\n",
        "\n",
        "print(\"--- Max and Min Per Column ---\")\n",
        "print(f\"Maximum values per column: {max_per_column}\")\n",
        "print(f\"Minimum values per column: {min_per_column}\")\n",
        "print(\"\\n\")\n",
        "\n",
        "# 3. Find max and min for each row (axis=1) - less common for this type of data, but useful to know\n",
        "max_per_row = np.max(df, axis=1)\n",
        "min_per_row = np.min(df, axis=1)\n",
        "\n",
        "print(\"--- Max and Min Per Row ---\")\n",
        "print(f\"Maximum values per row: {max_per_row}\")\n",
        "print(f\"Minimum values per row: {min_per_row}\")"
      ],
      "metadata": {
        "colab": {
          "base_uri": "https://localhost:8080/"
        },
        "id": "vhD9E5qUD9zC",
        "outputId": "4707fb6d-0e9e-4958-94dc-000460ec27ff"
      },
      "execution_count": null,
      "outputs": [
        {
          "output_type": "stream",
          "name": "stdout",
          "text": [
            "--- Max and Min Per Column ---\n",
            "Maximum values per column: [ 37.  48. 471.]\n",
            "Minimum values per column: [ 15.  36. 390.]\n",
            "\n",
            "\n",
            "--- Max and Min Per Row ---\n",
            "Maximum values per row: [450. 390. 428. 471. 398. 400. 415. 444.]\n",
            "Minimum values per row: [26. 32. 31. 28. 36. 37. 29. 15.]\n"
          ]
        }
      ]
    },
    {
      "cell_type": "code",
      "source": [
        "import numpy as np\n",
        "\n",
        "# --- 1. Simulate IoT Sensor Data Generation ---\n",
        "\n",
        "# Set a starting timestamp\n",
        "start_timestamp = np.datetime64('2025-07-15T18:00:00')\n",
        "\n",
        "# Define the data type for the structured array\n",
        "# 'datetime64[s]' for timestamps in seconds\n",
        "# 'f8' for float64 for temperature and humidity\n",
        "# 'bool' for motion detected (True/False)\n",
        "sensor_data_dtype = [\n",
        "    ('timestamp', 'datetime64[s]'),\n",
        "    ('temperature_celsius', 'f8'),\n",
        "    ('humidity_percent', 'f8'),\n",
        "    ('motion_detected', 'bool')\n",
        "]\n",
        "\n",
        "# Create an empty structured array for 1000 entries\n",
        "num_entries = 1000\n",
        "iot_data = np.empty(num_entries, dtype=sensor_data_dtype)\n",
        "\n",
        "# Populate the structured array with simulated data\n",
        "for i in range(num_entries):\n",
        "    # Generate sequential timestamps, 1 minute apart\n",
        "    iot_data['timestamp'][i] = start_timestamp + np.timedelta64(i, 'm')\n",
        "\n",
        "    # Simulate temperature (e.g., between 20°C and 40°C)\n",
        "    iot_data['temperature_celsius'][i] =round( np.random.uniform(20.0, 40.0),2)\n",
        "\n",
        "    # Simulate humidity (e.g., between 30% and 80%)\n",
        "    iot_data['humidity_percent'][i] = round(np.random.uniform(30.0, 80.0),2)\n",
        "\n",
        "    # Simulate motion detection (e.g., 20% chance of motion)\n",
        "    iot_data['motion_detected'][i] = np.random.rand() < 0.2\n",
        "\n",
        "\n",
        "print(\"--- Simulated IoT Sensor Data (First 5 Entries) ---\")\n",
        "print(iot_data[:5])\n",
        "print(f\"\\nTotal simulated entries: {len(iot_data)}\\n\")\n",
        "\n",
        "# --- 2. Filter Entries Based on Conditions ---\n",
        "\n",
        "# Filter entries where temperature > 35 and motion is detected\n",
        "# Create a boolean mask based on the conditions\n",
        "# Note the use of parentheses for correct logical operation precedence\n",
        "condition_mask = (iot_data['temperature_celsius'] > 35.0) & (iot_data['motion_detected'] == True)\n",
        "\n",
        "# Apply the mask to get the filtered data\n",
        "filtered_data = iot_data[condition_mask]\n",
        "\n",
        "print(\"--- Filtered Data (Temperature > 35°C AND Motion Detected) ---\")\n",
        "if len(filtered_data) > 0:\n",
        "    print(filtered_data)\n",
        "else:\n",
        "    print(\"No entries matched the filtering conditions.\")\n",
        "print(f\"\\nTotal filtered entries: {len(filtered_data)}\\n\")\n",
        "\n",
        "\n",
        "# --- 3. Save Filtered Data to CSV ---\n",
        "\n",
        "# Define the filename for the CSV\n",
        "output_filename = \"filtered_iot_sensor_data.csv\"\n",
        "\n",
        "# Prepare data for saving. np.savetxt works well with 2D numerical arrays.\n",
        "# For structured arrays with mixed types, converting to a list of tuples or using fmt='%s'\n",
        "# for all fields is a good approach for savetxt, {Link: says a Stack Overflow answer https://stackoverflow.com/questions/6081008/dump-a-numpy-array-into-a-csv-file}.\n",
        "# However, to maintain timestamp and boolean in readable format, it's often easiest to\n",
        "# manually create the output lines.\n",
        "\n",
        "# Create header string, {Link: according to DataCamp https://www.datacamp.com/doc/numpy/converting-arrays-into-csvs}.\n",
        "header = \"timestamp,temperature_celsius,humidity_percent,motion_detected\"\n",
        "\n",
        "# Save the filtered data to CSV\n",
        "# Using a loop for cleaner output with mixed data types, especially for timestamps.\n",
        "# You could also convert to a pandas DataFrame and then use .to_csv(), but this sticks to NumPy.\n",
        "with open(output_filename, 'w') as f:\n",
        "    f.write(header + '\\n')  # Write the header\n",
        "    for entry in filtered_data:\n",
        "        # Format each entry into a comma-separated string\n",
        "        line = f\"{entry['timestamp']},{entry['temperature_celsius']},{entry['humidity_percent']},{entry['motion_detected']}\\n\"\n",
        "        f.write(line)\n",
        "\n",
        "\n",
        "print(f\"Filtered data saved to {output_filename}\")"
      ],
      "metadata": {
        "colab": {
          "base_uri": "https://localhost:8080/"
        },
        "id": "v4LglkimJUiV",
        "outputId": "a3753d0c-3539-478b-88d6-eef526259670"
      },
      "execution_count": null,
      "outputs": [
        {
          "output_type": "stream",
          "name": "stdout",
          "text": [
            "--- Simulated IoT Sensor Data (First 5 Entries) ---\n",
            "[('2025-07-15T18:00:00', 29.46, 75.84, False)\n",
            " ('2025-07-15T18:01:00', 30.06, 40.51, False)\n",
            " ('2025-07-15T18:02:00', 38.81, 56.74, False)\n",
            " ('2025-07-15T18:03:00', 33.37, 58.55, False)\n",
            " ('2025-07-15T18:04:00', 35.69, 38.72, False)]\n",
            "\n",
            "Total simulated entries: 1000\n",
            "\n",
            "--- Filtered Data (Temperature > 35°C AND Motion Detected) ---\n",
            "[('2025-07-15T18:06:00', 39.93, 35.17,  True)\n",
            " ('2025-07-15T18:14:00', 36.12, 71.57,  True)\n",
            " ('2025-07-15T18:44:00', 38.88, 66.45,  True)\n",
            " ('2025-07-15T18:46:00', 38.38, 73.67,  True)\n",
            " ('2025-07-15T19:09:00', 38.34, 67.05,  True)\n",
            " ('2025-07-15T19:17:00', 37.22, 50.49,  True)\n",
            " ('2025-07-15T19:38:00', 38.64, 75.24,  True)\n",
            " ('2025-07-15T19:42:00', 36.34, 31.67,  True)\n",
            " ('2025-07-15T19:47:00', 35.3 , 39.79,  True)\n",
            " ('2025-07-15T19:50:00', 36.37, 34.63,  True)\n",
            " ('2025-07-15T20:05:00', 35.63, 77.92,  True)\n",
            " ('2025-07-15T20:19:00', 35.89, 34.57,  True)\n",
            " ('2025-07-15T20:29:00', 36.73, 52.47,  True)\n",
            " ('2025-07-15T20:40:00', 36.11, 71.38,  True)\n",
            " ('2025-07-15T21:01:00', 38.7 , 77.38,  True)\n",
            " ('2025-07-15T21:41:00', 39.77, 68.55,  True)\n",
            " ('2025-07-15T22:15:00', 39.29, 61.36,  True)\n",
            " ('2025-07-15T22:19:00', 37.05, 42.8 ,  True)\n",
            " ('2025-07-15T22:20:00', 36.18, 63.78,  True)\n",
            " ('2025-07-15T22:29:00', 35.46, 34.39,  True)\n",
            " ('2025-07-15T22:52:00', 37.96, 30.88,  True)\n",
            " ('2025-07-15T23:42:00', 38.86, 51.15,  True)\n",
            " ('2025-07-15T23:53:00', 39.53, 46.03,  True)\n",
            " ('2025-07-16T00:03:00', 36.77, 30.63,  True)\n",
            " ('2025-07-16T00:20:00', 38.37, 66.66,  True)\n",
            " ('2025-07-16T00:21:00', 36.71, 39.96,  True)\n",
            " ('2025-07-16T00:23:00', 37.41, 57.82,  True)\n",
            " ('2025-07-16T00:54:00', 37.2 , 63.82,  True)\n",
            " ('2025-07-16T01:15:00', 35.28, 48.22,  True)\n",
            " ('2025-07-16T01:21:00', 36.92, 72.83,  True)\n",
            " ('2025-07-16T01:25:00', 35.03, 37.9 ,  True)\n",
            " ('2025-07-16T02:02:00', 37.32, 41.45,  True)\n",
            " ('2025-07-16T02:11:00', 35.07, 77.34,  True)\n",
            " ('2025-07-16T02:15:00', 35.92, 41.28,  True)\n",
            " ('2025-07-16T02:30:00', 37.43, 58.75,  True)\n",
            " ('2025-07-16T02:36:00', 38.99, 45.81,  True)\n",
            " ('2025-07-16T03:01:00', 35.67, 76.21,  True)\n",
            " ('2025-07-16T03:05:00', 38.5 , 72.47,  True)\n",
            " ('2025-07-16T03:21:00', 38.83, 33.94,  True)\n",
            " ('2025-07-16T03:38:00', 36.25, 64.44,  True)\n",
            " ('2025-07-16T04:01:00', 37.01, 60.62,  True)\n",
            " ('2025-07-16T04:07:00', 35.14, 41.75,  True)\n",
            " ('2025-07-16T04:59:00', 39.92, 37.83,  True)\n",
            " ('2025-07-16T05:55:00', 38.72, 49.39,  True)\n",
            " ('2025-07-16T05:58:00', 37.34, 39.69,  True)\n",
            " ('2025-07-16T06:27:00', 36.01, 44.  ,  True)\n",
            " ('2025-07-16T07:05:00', 36.34, 46.22,  True)\n",
            " ('2025-07-16T07:35:00', 35.21, 72.76,  True)\n",
            " ('2025-07-16T07:37:00', 37.79, 49.88,  True)\n",
            " ('2025-07-16T07:55:00', 37.71, 76.83,  True)\n",
            " ('2025-07-16T08:08:00', 38.66, 62.4 ,  True)\n",
            " ('2025-07-16T08:10:00', 36.86, 51.58,  True)\n",
            " ('2025-07-16T08:12:00', 38.75, 30.95,  True)\n",
            " ('2025-07-16T08:59:00', 36.95, 49.51,  True)\n",
            " ('2025-07-16T09:29:00', 35.84, 51.93,  True)\n",
            " ('2025-07-16T09:32:00', 38.93, 58.09,  True)\n",
            " ('2025-07-16T10:04:00', 36.61, 66.3 ,  True)\n",
            " ('2025-07-16T10:19:00', 36.84, 41.36,  True)\n",
            " ('2025-07-16T10:25:00', 35.1 , 79.1 ,  True)]\n",
            "\n",
            "Total filtered entries: 59\n",
            "\n",
            "Filtered data saved to filtered_iot_sensor_data.csv\n"
          ]
        }
      ]
    }
  ]
}