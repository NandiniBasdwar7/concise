{
  "nbformat": 4,
  "nbformat_minor": 0,
  "metadata": {
    "colab": {
      "provenance": [],
      "authorship_tag": "ABX9TyNYXNBcl6OXRik/puv5VgMP",
      "include_colab_link": true
    },
    "kernelspec": {
      "name": "python3",
      "display_name": "Python 3"
    },
    "language_info": {
      "name": "python"
    }
  },
  "cells": [
    {
      "cell_type": "markdown",
      "metadata": {
        "id": "view-in-github",
        "colab_type": "text"
      },
      "source": [
        "<a href=\"https://colab.research.google.com/github/NandiniBasdwar7/concise/blob/main/Day_2_Control_Flow_%2B_Functions_pynb.ipynb\" target=\"_parent\"><img src=\"https://colab.research.google.com/assets/colab-badge.svg\" alt=\"Open In Colab\"/></a>"
      ]
    },
    {
      "cell_type": "code",
      "execution_count": null,
      "metadata": {
        "id": "ao0CSC2Uw5Et"
      },
      "outputs": [],
      "source": [
        "# Day 2: Control Flow + Functions\n",
        "#if-else"
      ]
    },
    {
      "cell_type": "code",
      "source": [
        "#if-else\n",
        "#if- executes when block of code is ==True.\n",
        "#else-executes if all preceding 'if' and 'elif' conditions are False."
      ],
      "metadata": {
        "id": "oxuXGE-6xLUu"
      },
      "execution_count": null,
      "outputs": []
    },
    {
      "cell_type": "code",
      "source": [
        "x = 10\n",
        "if x > 15:\n",
        "    print(\"x is greater than 15\")\n",
        "elif x == 10:\n",
        "    print(\"x is equal to 10\")\n",
        "else:\n",
        "    print(\"x is less than 10\")"
      ],
      "metadata": {
        "colab": {
          "base_uri": "https://localhost:8080/"
        },
        "id": "EQo_6z6xxtFF",
        "outputId": "0da7b5b9-d113-480c-c907-6207c226a43d"
      },
      "execution_count": null,
      "outputs": [
        {
          "output_type": "stream",
          "name": "stdout",
          "text": [
            "x is equal to 10\n"
          ]
        }
      ]
    },
    {
      "cell_type": "code",
      "source": [
        "#Python For Loops-A for loop is used for iterating over a sequence (that is either a list, a tuple, a dictionary, a set, or a string).\n",
        "fruits = [\"apple\", \"banana\", \"cherry\"]\n",
        "for x in fruits:\n",
        "  print(x)\n",
        "\n",
        "\n",
        "#Looping Through a String\n",
        "for x in \"banana\":\n",
        "  print(x)\n",
        "\n",
        "#The break Statement\n",
        "fruits = [\"apple\", \"banana\", \"cherry\"]\n",
        "for x in fruits:\n",
        "  print(x)\n",
        "  if x == \"banana\":\n",
        "    break\n",
        "\n",
        "\n",
        "#Exit the loop when x is \"banana\", but this time the break comes before the print:\n",
        "\n",
        "fruits = [\"apple\", \"banana\", \"cherry\"]\n",
        "for x in fruits:\n",
        "  if x == \"banana\":\n",
        "    break\n",
        "  print(x)\n",
        "\n",
        "#The continue Statement\n",
        "#Do not print banana:\n",
        "\n",
        "fruits = [\"apple\", \"banana\", \"cherry\"]\n",
        "for x in fruits:\n",
        "  if x == \"banana\":\n",
        "    continue\n",
        "  print(x)\n",
        "\n",
        "#The range() Function-To loop through a set of code a specified number of times, we can use the range() function.\n",
        "for x in range(6):\n",
        "  print(x)\n",
        "\n",
        "#Using the start parameter:\n",
        "for x in range(2, 6):\n",
        "  print(x)\n",
        "\n",
        "#Increment the sequence with 3 (default is 1):\n",
        "\n",
        "for x in range(2, 30, 3):\n",
        "  print(x)\n",
        "\n",
        "\n",
        "#Else in For Loop-The else keyword in a for loop specifies a block of code to be executed when the loop is finished.\n",
        "for x in range(6):\n",
        "  print(x)\n",
        "else:\n",
        "  print(\"Finally finished!\")\n",
        "\n",
        "\n",
        "#Nested Loops-A nested loop is a loop inside a loop.The \"inner loop\" will be executed one time for each iteration of the \"outer loop\".\n",
        "adj = [\"red\", \"big\", \"tasty\"]\n",
        "fruits = [\"apple\", \"banana\", \"cherry\"]\n",
        "\n",
        "for x in adj:\n",
        "  for y in fruits:\n",
        "    print(x, y)\n",
        "\n",
        "r=5\n",
        "for i in range(1,r+1):\n",
        "  for j in range(1,i+1):\n",
        "    print('*',end=\"\")\n",
        "  print()\n",
        "\n",
        "\n",
        "#The pass Statement\n",
        "for x in [0, 1, 2]:\n",
        "  pass"
      ],
      "metadata": {
        "colab": {
          "base_uri": "https://localhost:8080/"
        },
        "id": "ZySfc8y37In9",
        "outputId": "666b50d5-aa9a-4725-cf49-aa79d1cd5f62"
      },
      "execution_count": null,
      "outputs": [
        {
          "output_type": "stream",
          "name": "stdout",
          "text": [
            "apple\n",
            "banana\n",
            "cherry\n",
            "b\n",
            "a\n",
            "n\n",
            "a\n",
            "n\n",
            "a\n",
            "apple\n",
            "banana\n",
            "apple\n",
            "apple\n",
            "cherry\n",
            "0\n",
            "1\n",
            "2\n",
            "3\n",
            "4\n",
            "5\n",
            "2\n",
            "3\n",
            "4\n",
            "5\n",
            "2\n",
            "5\n",
            "8\n",
            "11\n",
            "14\n",
            "17\n",
            "20\n",
            "23\n",
            "26\n",
            "29\n",
            "0\n",
            "1\n",
            "2\n",
            "3\n",
            "4\n",
            "5\n",
            "Finally finished!\n",
            "red apple\n",
            "red banana\n",
            "red cherry\n",
            "big apple\n",
            "big banana\n",
            "big cherry\n",
            "tasty apple\n",
            "tasty banana\n",
            "tasty cherry\n",
            "*\n",
            "**\n",
            "***\n",
            "****\n",
            "*****\n"
          ]
        }
      ]
    },
    {
      "cell_type": "code",
      "source": [
        "#While loop-while loop we can execute as long as a condition is true.\n",
        "#Print i as long as i is less than 6:\n",
        "i = 1\n",
        "while i < 6:\n",
        "  print(i)\n",
        "  i += 1\n",
        "\n",
        "\n",
        "#The break Statement-With the break statement we can stop the loop even if the while condition is true:\n",
        "#Exit the loop when i is 3:\n",
        "\n",
        "i = 1\n",
        "while i < 6:\n",
        "  print(i)\n",
        "  if i == 3:\n",
        "    break\n",
        "  i += 1\n",
        "\n",
        "\n",
        "\n",
        "#The continue Statement-With the continue statement we can stop the current iteration, and continue with the next:\n",
        "#Example\n",
        "#Continue to the next iteration if i is 3:\n",
        "i = 0\n",
        "while i < 6:\n",
        "  i += 1\n",
        "  if i == 3:\n",
        "    continue\n",
        "  print(i)\n",
        "\n",
        "#The else Statement-With the else statement we can run a block of code once when the condition no longer is true:\n",
        "i = 1\n",
        "while i < 6:\n",
        "  print(i)\n",
        "  i += 1\n",
        "else:\n",
        "  print(\"i is no longer less than 6\")\n",
        "\n",
        "\n"
      ],
      "metadata": {
        "colab": {
          "base_uri": "https://localhost:8080/"
        },
        "id": "eQWcoWwKHNYV",
        "outputId": "3e3e6a24-129d-45c2-b401-b28c2a2b250a"
      },
      "execution_count": null,
      "outputs": [
        {
          "output_type": "stream",
          "name": "stdout",
          "text": [
            "1\n",
            "2\n",
            "3\n",
            "4\n",
            "5\n",
            "1\n",
            "2\n",
            "3\n",
            "1\n",
            "2\n",
            "4\n",
            "5\n",
            "6\n",
            "1\n",
            "2\n",
            "3\n",
            "4\n",
            "5\n",
            "i is no longer less than 6\n"
          ]
        }
      ]
    },
    {
      "cell_type": "code",
      "source": [
        "#Writing functions, lambda functions\n",
        "#python function-A function is a block of code which only runs when it is called.in function pass data ,known as 'parameter' ,a function can return data as a result\n",
        "#Creating a Function-In Python a function is defined using the def keyword:\n",
        "def my_function():\n",
        "  print(\"Hello from a function\")\n",
        "\n",
        "\n",
        "#Calling a Function-To call a function, use the function name followed by parenthesis:\n",
        "def my_function():\n",
        "  print(\"Hello from a function\")\n",
        "my_function() #use the function name followed by parenthesis\n",
        "\n",
        "\n",
        "#Arguments-Information can be passed into functions as arguments.\n",
        "def my_function(fname):\n",
        "  print(fname + \"logo\")\n",
        "\n",
        "my_function(\"Emil\")\n",
        "my_function(\"Tobias\")\n",
        "my_function(\"Linus\")\n",
        "\n",
        "\n",
        "#Number of Arguments\n",
        "#This function expects 2 arguments, and gets 2 arguments:\n",
        "\n",
        "def my_function(fname, lname):\n",
        "  print(fname + \" \" + lname)\n",
        "\n",
        "my_function(\"Emil\", \"Refsnes\")\n",
        "\n",
        "#Passing a List as an Argument\n",
        "def my_function(food):\n",
        "  for x in food:\n",
        "    print(x)\n",
        "\n",
        "fruits = [\"apple\", \"banana\", \"cherry\"]\n",
        "\n",
        "my_function(fruits)\n",
        "\n",
        "\n",
        "#The pass Statement\n",
        "def myfunction():\n",
        "  pass\n",
        "\n",
        "#Positional-Only Arguments\n",
        "def my_function(x, /):\n",
        "  print(x)\n",
        "\n",
        "my_function(3)\n",
        "\n",
        "#Keyword-Only Arguments\n",
        "def my_function(*, x):\n",
        "  print(x)\n",
        "\n",
        "my_function(x = 3)\n",
        "\n",
        "#Combine Positional-Only and Keyword-Only\n",
        "def my_function(a, b, /, *, c, d):\n",
        "  print(a + b + c + d)\n",
        "\n",
        "my_function(5, 6, c = 7, d = 8)\n",
        "\n"
      ],
      "metadata": {
        "colab": {
          "base_uri": "https://localhost:8080/"
        },
        "id": "mDeSa9alx7WE",
        "outputId": "ce596a36-a3f1-45f7-8f0d-de5d3dfd8b50"
      },
      "execution_count": null,
      "outputs": [
        {
          "output_type": "stream",
          "name": "stdout",
          "text": [
            "Hello from a function\n",
            "Emil Refsnes\n",
            "Tobias Refsnes\n",
            "Linus Refsnes\n",
            "Emil Refsnes\n",
            "apple\n",
            "banana\n",
            "cherry\n",
            "3\n",
            "3\n",
            "26\n"
          ]
        }
      ]
    },
    {
      "cell_type": "code",
      "source": [
        "#lambda function-A lambda function is a small function.A lambda function can take any number of arguments, but can only have one expression.\n",
        "x = lambda a : a + 10\n",
        "print(x(5))\n",
        "\n",
        "#Lambda functions can take any number of arguments:\n",
        "x = lambda a, b : a * b\n",
        "print(x(5, 6))"
      ],
      "metadata": {
        "id": "ybZrSuqS3nuF"
      },
      "execution_count": null,
      "outputs": []
    },
    {
      "cell_type": "code",
      "source": [
        "#List Comprehension-only one line of code,a concise way to create lists\n",
        "fruits = [\"apple\", \"banana\", \"cherry\", \"kiwi\", \"mango\"]\n",
        "newlist = [x for x in fruits if \"a\" in x]\n",
        "print(newlist)\n",
        "\n",
        "\n",
        "#Condition-The condition is like a filter that only accepts the items that evaluate to True.\n",
        "fruits = [\"apple\", \"banana\", \"cherry\", \"kiwi\", \"mango\"]\n",
        "newlist = [x for x in fruits if x != \"apple\"]\n",
        "print(newlist)\n",
        "\n",
        "nums=[1,2,3,4,5,6,7,8]\n",
        "even=[x for x in nums if x%2==0]\n",
        "print(even)\n",
        "\n",
        "\n",
        "\n",
        "#Iterable-The iterable can be any iterable object, like a list, tuple, set etc.\n",
        "newlist = [x for x in range(10)]\n",
        "print(newlist)\n",
        "\n",
        "newlist = [x*x for x in range(10)]\n",
        "print(newlist)"
      ],
      "metadata": {
        "colab": {
          "base_uri": "https://localhost:8080/"
        },
        "id": "W27KmdN0M-mU",
        "outputId": "fc09dd24-e257-4b12-a6ed-526dcc93d987"
      },
      "execution_count": null,
      "outputs": [
        {
          "output_type": "stream",
          "name": "stdout",
          "text": [
            "['apple', 'banana', 'mango']\n",
            "['banana', 'cherry', 'kiwi', 'mango']\n",
            "[2, 4, 6, 8]\n",
            "[0, 1, 2, 3, 4, 5, 6, 7, 8, 9]\n",
            "[0, 1, 4, 9, 16, 25, 36, 49, 64, 81]\n"
          ]
        }
      ]
    },
    {
      "cell_type": "code",
      "source": [
        "# Write a function to clean and transform tabular data\n",
        "def clean(data):\n",
        "  lines=data.strip().split('\\n')\n",
        "  result=[]\n",
        "  for line in lines[1:]:\n",
        "    values=[value.strip() for value in line.split(',')]\n",
        "    result.append(values)\n",
        "  return result\n",
        "data=\"\"\"name,age,city\n",
        "Nandini,25,indore\n",
        "srishti,22,mhow\n",
        "neha,27,bhoapl\"\"\"\n",
        "print(clean(data))\n"
      ],
      "metadata": {
        "colab": {
          "base_uri": "https://localhost:8080/"
        },
        "id": "Jz0qKI0mSvI1",
        "outputId": "bb41383b-d348-49c2-8c7b-165b0fb9886e"
      },
      "execution_count": 35,
      "outputs": [
        {
          "output_type": "stream",
          "name": "stdout",
          "text": [
            "[['Nandini', '25', 'indore'], ['srishti', '22', 'mhow'], ['neha', '27', 'bhoapl']]\n"
          ]
        }
      ]
    },
    {
      "cell_type": "code",
      "source": [
        "# Build a function clean_data(data_list) that\n",
        "#Removes empty strings.\n",
        "#Trims whitespace.\n",
        "#Converts numeric strings to integers.\n",
        "def clean(data):\n",
        "  cleaned=[]\n",
        "  for i in data:\n",
        "    i=i.strip()\n",
        "    if i==\"\":\n",
        "      continue\n",
        "    if i.isdigit():\n",
        "      cleaned.append(int(i))\n",
        "    else:\n",
        "      cleaned.append(i)\n",
        "  return cleaned\n",
        "data=['123',\"\",\"apple\",'42',\" \",'banana']\n",
        "print(clean(data))\n",
        "\n"
      ],
      "metadata": {
        "colab": {
          "base_uri": "https://localhost:8080/"
        },
        "id": "xhIZePlfnR_T",
        "outputId": "1c1c5ffe-2a6c-4c36-be8e-d195732ffce0"
      },
      "execution_count": 32,
      "outputs": [
        {
          "output_type": "stream",
          "name": "stdout",
          "text": [
            "[123, 'apple', 42, 'banana']\n"
          ]
        }
      ]
    },
    {
      "cell_type": "code",
      "source": [
        "temperature= [35,28,32,34,19,24]\n",
        "Fahrenheit= map(lambda x:x*9/5+32, temperature)\n",
        "print(list(Fahrenheit))"
      ],
      "metadata": {
        "colab": {
          "base_uri": "https://localhost:8080/"
        },
        "id": "5SJUv7wD4BsI",
        "outputId": "56a2df8e-87f4-44fa-decc-d284a0ed068d"
      },
      "execution_count": 34,
      "outputs": [
        {
          "output_type": "stream",
          "name": "stdout",
          "text": [
            "[95.0, 82.4, 89.6, 93.2, 66.2, 75.2]\n"
          ]
        }
      ]
    }
  ]
}